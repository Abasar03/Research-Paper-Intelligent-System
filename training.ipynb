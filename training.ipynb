{
  "cells": [
    {
      "cell_type": "code",
      "execution_count": null,
      "metadata": {
        "colab": {
          "base_uri": "https://localhost:8080/"
        },
        "id": "pzj3oGU_gzQe",
        "outputId": "1c92cd33-2bc2-47eb-8fbd-b0431af6b257"
      },
      "outputs": [
        {
          "name": "stdout",
          "output_type": "stream",
          "text": [
            "Drive already mounted at /content/drive; to attempt to forcibly remount, call drive.mount(\"/content/drive\", force_remount=True).\n"
          ]
        }
      ],
      "source": [
        "import pandas as pd\n",
        "import numpy as np\n",
        "import torch\n",
        "import torch.nn as nn\n",
        "import torch.nn.functional as F\n",
        "import torch.optim as optim\n",
        "import math\n",
        "import re\n",
        "import pickle\n",
        "import os\n",
        "import shutil\n",
        "import glob\n",
        "import time\n",
        "import matplotlib.pyplot as plt\n",
        "\n",
        "from google.colab import drive\n",
        "from torch.utils.data import Dataset, DataLoader\n",
        "from torch.nn import CrossEntropyLoss, MSELoss\n",
        "from collections import Counter\n",
        "from tqdm import tqdm\n",
        "\n",
        "drive.mount('/content/drive')"
      ]
    },
    {
      "cell_type": "code",
      "execution_count": 7,
      "metadata": {
        "colab": {
          "base_uri": "https://localhost:8080/"
        },
        "id": "ZfTCXdqy7G8j",
        "outputId": "03361b99-eb08-43e9-f0bc-6b84a149ab84"
      },
      "outputs": [
        {
          "name": "stdout",
          "output_type": "stream",
          "text": [
            "Dataset loaded: (80318, 33)\n",
            "Columns: ['paperID', 'venue', 'year', 'openAccessPdf', 'url', 'authors', 'referenceCount', 'title', 'abstract', 'conclusion', 'Chatgpt Response', 'Key Takeaways', 'Importance', 'Model/Method Proposed', 'Performance', 'Effectiveness', 'Future Works', 'Sentiment', 'Sentiment Score', 'combined', 'combined_keywords', 'response_keywords', 'future_work_keywords', 'capped_keywords', 'field', 'future_work_cleaned', 'abstract_cleaned', 'method_proposed_cleaned', 'conclusion_cleaned', 'gap_corpus', 'gap_sentences', 'contextual_gaps', 'domain_gaps']\n",
            "\n",
            "Sample gap corpus:\n",
            "[\"[ABSTRACT] face anti-spoofing approach based on domain generalization (dg) has drawn growing attention due to its robustness for unseen scenarios. existing dg methods assume that the domain label is known. however, in real-world applications, the collected dataset always contains mixture domains, where the domain label is unknown. in this case, most of existing methods may not work. further, even if we can obtain the domain label as existing methods, we think this is just a sub-optimal partition. to overcome the limitation, we propose domain dynamic adjustment meta-learning (d$^2$am) without using domain labels, which iteratively divides mixture domains via discriminative domain representation and trains a generalizable face anti-spoofing with meta-learning. specifically, we design a domain feature based on instance normalization (in) and propose a domain representation learning module (drlm) to extract discriminative domain features for clustering. moreover, to reduce the side effect of outliers on clustering performance, we additionally utilize maximum mean discrepancy (mmd) to align the distribution of sample features to a prior distribution, which improves the reliability of clustering. extensive experiments show that the proposed method outperforms conventional dg-based face anti-spoofing methods, including those utilizing domain labels. furthermore, we enhance the interpretability through visualization. [METHOD] ['d$^2$am (domain dynamic adjustment meta-learning)', 'domain representation learning module (drlm)', 'instance normalization for domain feature', 'maximum mean discrepancy (mmd) for aligning sample feature distribution'] [FUTURE_WORK] ['further enhance interpretability and visualization', 'explore applications to other domains beyond face anti-spoofing'] [CONCLUSION] conclusion:as shown in figure 3, tables 1 and2, our method outperforms all state-of-the-art methods under most of tasks. we make the following observations from the results. (1) dg-based face anti-spoofing methods perform better than ablation study we perform ablation study to verify the efficacy of each component. several observations can be made from table 3. (1) d 2 am w/o d means that d 2 am randomly selects meta-train and meta-test from mixture domains, and its performance is worse than d 2 am w/ d, which utilizes domain label as existing methods. this is because there is no domain shift between the randomly selected domains. hence, we think it is important to simulate difficult and abundant domain shift scenarios for meta-learning. ( in this paper, to the best of our knowledge, this is the first wok to address mixture domain face anti-spoofing, where the domain label is unknown. specifically, we design the d 2 am, which iteratively clusters mixture domains via discriminative domain representation and trains a generalizable feature extractor by meta-learning. a drlm and mmdbased regularization are designed for better dynamic adjustment to simulate more difficult and abundant domain shift scenes. comprehensive experiments show that d 2 am outperforms conventional dg-based face anti-spoofing methods, including those utilizing domain labels. furthermore, we enhance the interpretability through visualization.\"\n",
            " \"[ABSTRACT] various social situations entail a collective risk. a well-known example is climate change, wherein the risk of a future environmental disaster clashes with the immediate economic interest of developed and developing countries. the collective-risk game operationalizes this kind of situations. the decision process of the participants is determined by how good they are in evaluating the probability of future risk as well as their ability to anticipate the actions of the opponents. anticipatory behavior contrasts with the reactive theories often used to analyze social dilemmas. our initial work can already show that anticipative agents are a better model to human behavior than reactive ones. all the agents we studied used a recurrent neural network, however, only the ones that used it to predict future outcomes (anticipative agents) were able to account for changes in the context of games, a behavior also observed in experiments with humans. this extended abstract aims to explain how we wish to investigate anticipation within the context of the collective-risk game and the relevance these results may have for the field of hybrid socio-technical systems. [METHOD] ['using recurrent neural networks for agents in the collective-risk game.', 'contrasting anticipatory behavior with reactive theories in social dilemmas.'] [FUTURE_WORK] ['explore further applications of anticipatory behavior in complex social scenarios.', 'investigate the impact of different network architectures on agent decision-making.']\"\n",
            " \"[ABSTRACT] adverse drug reaction (adr) is a major burden for patients and healthcare industry. it usually causes preventable hospitalizations and deaths, while associated with a huge amount of cost. traditional preclinical in vitro safety profiling and clinical safety trials are restricted in terms of small scale, long duration, huge financial costs and limited statistical signifi- cance. the availability of large amounts of drug and adr data potentially allows adr predictions during the drugs’ early preclinical stage with data analytics methods to inform more targeted clinical safety tests. despite their initial success, existing methods have trade-offs among interpretability, predictive power and efficiency. this urges us to explore methods that could have all these strengths and provide practical solutions for real world adr predictions. we cast the adr-drug relation structure into a three-layer hierarchical bayesian model. we interpret each adr as a symbolic word and apply latent dirichlet allocation (lda) to learn topics that may represent certain biochemical mechanism that relates adrs with drug structures. based on lda, we designed an equivalent regularization term to incorporate the hierarchical adr domain knowledge. finally, we developed a mixed input model leveraging a fast collapsed gibbs sampling method that the complexity of each iteration of gibbs sampling proportional only to the number of positive adrs. experiments on real world data show our models achieved higher prediction accuracy and shorter running time than the state-of-the-art alternatives. [METHOD] ['three lda-based models for adr prediction.', 'a three-layer hierarchical bayesian model casting the adr-drug relation structure.', 'use of lda to learn topics representing biochemical mechanisms linking drug structures to adrs.', 'introduction of an equivalent regularization term based on hierarchical adr domain knowledge.', 'development of a mixed input model with fast collapsed gibbs sampling, enabling higher prediction accuracy and shorter running time.'] [FUTURE_WORK] ['improvement of the medical ontology system with real-world evidence.', 'addressing issues related to false-negative predictions.'] [CONCLUSION] conclusion:in this paper, we presented three lda-based models for adr prediction. the approach learns a hidden topic layer that may relate to biochemical mechanisms that link drug structures to adrs. moreover, the mixed input model has the best combination of prediction performance and training efficiency. experiments show that all models have better prediction accuracy than baselines. furthermore, we analyze the positive and false negative predictions based on a sample drug and the results point to some future directions including 1) improve medical ontology system with real world evidence,\"\n",
            " \"[ABSTRACT] transferring knowledge among various environments is important for efficiently learning multiple tasks online. most existing methods directly use the previously learned models or previously learned optimal policies to learn new tasks. however, these methods may be inefficient when the underlying models or optimal policies are substantially different across tasks. in this paper, we propose template learning (temple), a pac-mdp method for multi-task reinforcement learning that could be applied to tasks with varying state/action space without prior knowledge of inter-task mappings. temple gains sample efficiency by extracting similarities of the transition dynamics across tasks even when their underlying models or optimal policies have limited commonalities. we present two algorithms for an ``online'' and a ``finite-model'' setting respectively. we prove that our proposed temple algorithms achieve much lower sample complexity than single-task learners or state-of-the-art multi-task methods. we show via systematically designed experiments that our temple method universally outperforms the state-of-the-art multi-task methods (pac-mdp or not) in various settings and regimes. [METHOD] ['temple (template learning) for multi-task reinforcement learning'] [FUTURE_WORK] ['investigating transition probability and reward separately', 'extending the idea of extracting modular similarities to continuous mdp and deep model-based rl'] [CONCLUSION] conclusion:in this work, we propose temple, the first pac-mdp mtrl algorithm that works for tasks with varying state/action space without any inter-task mappings or prior knowledge of the mdp structures. this work can be extended in many directions. for example, one may benefit from investigating transition probability and reward separately. the idea of extracting modular similarities can also be extended to continuous mdp and deep model-based rl.\"\n",
            " \"[ABSTRACT] given the recent success of deep learning applied to a variety of single tasks, it is natural to consider more human-realistic settings. perhaps the most difficult of these settings is that of continual lifelong learning, where the model must learn online over a continuous stream of non-stationary data. a successful continual lifelong learning system must have three key capabilities: it must learn and adapt over time, it must not forget what it has learned, and it must be efficient in both training time and memory. recent techniques have focused their efforts primarily on the first two capabilities while questions of efficiency remain largely unexplored. in this paper, we consider the problem of efficient and effective storage of experiences over very large time-frames. in particular we consider the case where typical experiences are o(n) bits and memories are limited to o(k) bits for k [METHOD] ['efficient storage of experiences over very large time-frames', 'limit experiences to o(n) bits and memory to o(k) bits for scalability'] [FUTURE_WORK] ['exploring further improvements in training efficiency and memory usage', 'investigating the impact of scalability on different types of experiences']\"]\n"
          ]
        }
      ],
      "source": [
        "df = pd.read_csv('research_gaps_dataset.csv')\n",
        "\n",
        "print(f\"Dataset loaded: {df.shape}\")\n",
        "print(\"Columns:\", df.columns.tolist())\n",
        "\n",
        "# Checking gap corpus\n",
        "print(\"\\nSample gap corpus:\")\n",
        "print(df['gap_corpus'].head(5).values)"
      ]
    },
    {
      "cell_type": "code",
      "execution_count": 8,
      "metadata": {
        "colab": {
          "base_uri": "https://localhost:8080/"
        },
        "id": "4-LwK5GV8G7C",
        "outputId": "14a2c9fe-2547-43ab-de94-2c3525cd416b"
      },
      "outputs": [
        {
          "name": "stdout",
          "output_type": "stream",
          "text": [
            "gap extraction stats\n",
            "gap_corpus: 80318 entries\n",
            "gap_sentences: 40105051 entries\n",
            "future_work_cleaned: 80318 entries\n",
            "contextual_gaps: 7455434 entries\n",
            "sample training data\n",
            "\n",
            "sample 1\n",
            "field: Artificial Intelligence\n",
            "title: Generalizable Representation Learning for Mixture Domain Face Anti-Spoofing\n",
            "gap corpus length: 3246 chars\n",
            "future work: ['further enhance interpretability and visualization', 'explore applications to other domains beyond\n",
            "\n",
            "sample 2\n",
            "field: Artificial Intelligence\n",
            "title: Coordinating Human and Agent Behavior in Collective-Risk Scenarios\n",
            "gap corpus length: 1532 chars\n",
            "future work: ['explore further applications of anticipatory behavior in complex social scenarios.', 'investigate \n",
            "\n",
            "sample 3\n",
            "field: Artificial Intelligence\n",
            "title: Adverse Drug Reaction Prediction with Symbolic Latent Dirichlet Allocation\n",
            "gap corpus length: 2823 chars\n",
            "future work: ['improvement of the medical ontology system with real-world evidence.', 'addressing issues related \n"
          ]
        }
      ],
      "source": [
        "gap_stats = {\n",
        "    'gap_corpus': df['gap_corpus'].notna().sum(),\n",
        "    'gap_sentences': df['gap_sentences'].str.len().sum() if 'gap_sentences' in df.columns else 0,\n",
        "    'future_work_cleaned': df['future_work_cleaned'].notna().sum(),\n",
        "    'contextual_gaps': df['contextual_gaps'].str.len().sum() if 'contextual_gaps' in df.columns else 0\n",
        "}\n",
        "\n",
        "print(\"gap extraction stats\")\n",
        "for col, count in gap_stats.items():\n",
        "    print(f\"{col}: {count} entries\")\n",
        "\n",
        "print(\"sample training data\")\n",
        "sample_papers = df[df['gap_corpus'].str.len() > 100].head(3)\n",
        "\n",
        "for i, (idx, row) in enumerate(sample_papers.iterrows()):\n",
        "    print(f\"\\nsample {i+1}\")\n",
        "    print(f\"field: {row['field']}\")\n",
        "    print(f\"title: {row['title'][:80]}\")\n",
        "    print(f\"gap corpus length: {len(row['gap_corpus'])} chars\")\n",
        "    print(f\"future work: {row['future_work_cleaned'][:100]}\")"
      ]
    },
    {
      "cell_type": "code",
      "execution_count": 9,
      "metadata": {
        "id": "2W_VdOK4A3jy"
      },
      "outputs": [],
      "source": [
        "def create_transformer_training_data(df):\n",
        "    # Input: Paper sections\n",
        "    # Output: Research gaps\n",
        "\n",
        "    training_examples = []\n",
        "\n",
        "    for idx, row in df.iterrows():\n",
        "        if pd.isna(row['gap_corpus']) or len(row['gap_corpus']) < 50:\n",
        "            continue\n",
        "\n",
        "        # combining paper sections\n",
        "        input_sections = []\n",
        "\n",
        "        if pd.notna(row['title']):\n",
        "            input_sections.append(f\"Title: {row['title']}\")\n",
        "        if pd.notna(row['abstract_cleaned']):\n",
        "            input_sections.append(f\"Abstract: {row['abstract_cleaned'][:500]}\")\n",
        "        if pd.notna(row['method_proposed_cleaned']):\n",
        "            input_sections.append(f\"Method: {row['method_proposed_cleaned'][:400]}\")\n",
        "        if pd.notna(row['conclusion_cleaned']):\n",
        "            input_sections.append(f\"Conclusion: {row['conclusion_cleaned'][:300]}\")\n",
        "\n",
        "        paper_input = \"\\n\".join(input_sections)\n",
        "\n",
        "        # extracting research gaps from processed columns\n",
        "        research_gaps = []\n",
        "\n",
        "        # Future work\n",
        "        if pd.notna(row['future_work_cleaned']) and len(row['future_work_cleaned']) > 20:\n",
        "            research_gaps.append(f\"Future Research: {row['future_work_cleaned'][:200]}\")\n",
        "\n",
        "        # Gap sentences\n",
        "        if 'gap_sentences' in df.columns and pd.notna(row['gap_sentences']):\n",
        "            if isinstance(row['gap_sentences'], list) and len(row['gap_sentences']) > 0:\n",
        "                for gap in row['gap_sentences'][:3]:\n",
        "                    if len(gap) > 20:\n",
        "                        research_gaps.append(f\"Limitation: {gap[:150]}\")\n",
        "\n",
        "        if len(research_gaps) > 0 and len(paper_input) > 100:\n",
        "            gap_output = \"\\n\".join(research_gaps)\n",
        "\n",
        "            training_examples.append({\n",
        "                'input_text': paper_input,\n",
        "                'target_text': gap_output,\n",
        "                'field': row['field'],\n",
        "                'paper_id': row['paperID']\n",
        "            })\n",
        "\n",
        "    return training_examples"
      ]
    },
    {
      "cell_type": "code",
      "execution_count": 10,
      "metadata": {
        "colab": {
          "base_uri": "https://localhost:8080/"
        },
        "id": "g-PjjaF1LjwV",
        "outputId": "92fc6fe9-4159-4ab4-f124-85d1548e9714"
      },
      "outputs": [
        {
          "name": "stdout",
          "output_type": "stream",
          "text": [
            "Creating training dataset\n",
            "Created 80080 training examples\n",
            "\n",
            "training data ny field:\n",
            "Computational Theory: 16095 examples\n",
            "Computer Vision: 14779 examples\n",
            "Natural Language Processing: 13868 examples\n",
            "Artificial Intelligence: 11890 examples\n",
            "Human Computer Interaction: 6882 examples\n",
            "Computing in Biomedical Fields: 4575 examples\n",
            "Computer Networks & Communications: 3852 examples\n",
            "Graphics and Computer-Aided Design: 3046 examples\n",
            "Software Engineering: 2333 examples\n",
            "Computer Hardware & Architecture: 1214 examples\n"
          ]
        }
      ],
      "source": [
        "# Creating training dataset\n",
        "print(\"Creating training dataset\")\n",
        "training_examples = create_transformer_training_data(df)\n",
        "print(f\"Created {len(training_examples)} training examples\")\n",
        "\n",
        "# Showing distribution by field\n",
        "field_counts = {}\n",
        "for example in training_examples:\n",
        "    field = example['field']\n",
        "    field_counts[field] = field_counts.get(field, 0) + 1\n",
        "\n",
        "print(\"\\ntraining data ny field:\")\n",
        "for field, count in sorted(field_counts.items(), key=lambda x: x[1], reverse=True)[:10]:\n",
        "    print(f\"{field}: {count} examples\")"
      ]
    },
    {
      "cell_type": "code",
      "execution_count": 29,
      "metadata": {
        "colab": {
          "base_uri": "https://localhost:8080/"
        },
        "id": "JhsYXc_zHWbY",
        "outputId": "dcfd0b16-db5d-4e57-8ed9-a8483d71afe3"
      },
      "outputs": [
        {
          "name": "stdout",
          "output_type": "stream",
          "text": [
            "Custom Transformer Model Defined\n"
          ]
        }
      ],
      "source": [
        "# Custom Transformer Model\n",
        "class CustomResearchGapTransformer(nn.Module):\n",
        "    def __init__(self, vocab_size, d_model=512, nhead=8, num_encoder_layers=6,\n",
        "                 num_decoder_layers=6, dim_feedforward=2048, max_seq_length=1024, dropout=0.1):\n",
        "        super(CustomResearchGapTransformer, self).__init__()\n",
        "\n",
        "        self.d_model = d_model\n",
        "        self.max_seq_length = max_seq_length\n",
        "\n",
        "        # Embedding layers\n",
        "        self.input_embedding = nn.Embedding(vocab_size, d_model)\n",
        "        self.output_embedding = nn.Embedding(vocab_size, d_model)\n",
        "        self.positional_encoding = PositionalEncoding(d_model, max_seq_length)\n",
        "\n",
        "        # Encoder and Decoder separately\n",
        "        encoder_layer = nn.TransformerEncoderLayer(\n",
        "            d_model=d_model,\n",
        "            nhead=nhead,\n",
        "            dim_feedforward=dim_feedforward,\n",
        "            dropout=dropout,\n",
        "            batch_first=True\n",
        "        )\n",
        "        self.transformer_encoder = nn.TransformerEncoder(\n",
        "            encoder_layer, num_layers=num_encoder_layers\n",
        "        )\n",
        "\n",
        "        decoder_layer = nn.TransformerDecoderLayer(\n",
        "            d_model=d_model,\n",
        "            nhead=nhead,\n",
        "            dim_feedforward=dim_feedforward,\n",
        "            dropout=dropout,\n",
        "            batch_first=True\n",
        "        )\n",
        "        self.transformer_decoder = nn.TransformerDecoder(\n",
        "            decoder_layer, num_layers=num_decoder_layers\n",
        "        )\n",
        "\n",
        "        # Output projection\n",
        "        self.output_projection = nn.Linear(d_model, vocab_size)\n",
        "\n",
        "        # Research gap specific layers\n",
        "        self.gap_classifier = nn.Linear(d_model, 7)\n",
        "        self.gap_importance = nn.Linear(d_model, 1)\n",
        "\n",
        "    def create_padding_mask(self, x, pad_token_id=0):\n",
        "        return (x == pad_token_id)\n",
        "\n",
        "    def create_causal_mask(self, size):\n",
        "        mask = torch.triu(torch.ones(size, size), diagonal=1)\n",
        "        return mask.bool()\n",
        "\n",
        "    def forward(self, src, tgt, src_pad_mask=None, tgt_pad_mask=None):\n",
        "        batch_size, src_seq_len = src.shape\n",
        "        tgt_seq_len = tgt.shape[1]\n",
        "\n",
        "        # Creating padding masks\n",
        "        if src_pad_mask is None:\n",
        "            src_pad_mask = self.create_padding_mask(src)\n",
        "        if tgt_pad_mask is None:\n",
        "            tgt_pad_mask = self.create_padding_mask(tgt)\n",
        "\n",
        "        # Creating causal masks\n",
        "        tgt_causal_mask = self.create_causal_mask(tgt_seq_len).to(src.device)\n",
        "\n",
        "        # Embeddings with positional encoding\n",
        "        src_emb = self.input_embedding(src) * math.sqrt(self.d_model)\n",
        "        tgt_emb = self.output_embedding(tgt) * math.sqrt(self.d_model)\n",
        "\n",
        "        src_emb = self.positional_encoding(src_emb)\n",
        "        tgt_emb = self.positional_encoding(tgt_emb)\n",
        "\n",
        "        # Encoder forward pass\n",
        "        encoder_output = self.transformer_encoder(\n",
        "            src_emb,\n",
        "            src_key_padding_mask=src_pad_mask\n",
        "        )\n",
        "\n",
        "        # Decoder forward pass\n",
        "        decoder_output = self.transformer_decoder(\n",
        "            tgt_emb,\n",
        "            encoder_output,\n",
        "            tgt_mask=tgt_causal_mask,\n",
        "            tgt_key_padding_mask=tgt_pad_mask,\n",
        "            memory_key_padding_mask=src_pad_mask\n",
        "        )\n",
        "\n",
        "        # Output projections\n",
        "        gap_text_logits = self.output_projection(decoder_output)\n",
        "\n",
        "        # Using encoder output for global context\n",
        "        encoder_mask = ~src_pad_mask.unsqueeze(-1)  # Inverting mask for multiplication\n",
        "        masked_encoder_output = encoder_output * encoder_mask.float()\n",
        "        global_features = masked_encoder_output.sum(dim=1) / encoder_mask.sum(dim=1).float()\n",
        "\n",
        "        gap_types = self.gap_classifier(global_features)\n",
        "        gap_scores = self.gap_importance(global_features)\n",
        "\n",
        "        return {\n",
        "            'gap_text': gap_text_logits,\n",
        "            'gap_types': gap_types,\n",
        "            'gap_scores': gap_scores.squeeze(-1)\n",
        "        }\n",
        "\n",
        "class PositionalEncoding(nn.Module):\n",
        "    def __init__(self, d_model, max_len=5000, droput=0.1):\n",
        "        super(PositionalEncoding, self).__init__()\n",
        "\n",
        "        pe = torch.zeros(max_len, d_model)\n",
        "        position = torch.arange(0, max_len, dtype=torch.float).unsqueeze(1)\n",
        "\n",
        "        div_term = torch.exp(torch.arange(0, d_model, 2).float() *\n",
        "                           (-math.log(10000.0) / d_model))\n",
        "\n",
        "        pe[:, 0::2] = torch.sin(position * div_term)\n",
        "        pe[:, 1::2] = torch.cos(position * div_term)\n",
        "\n",
        "        self.register_parameter('pe', nn.Parameter(pe.unsqueeze(0), requires_grad=False))\n",
        "\n",
        "    def forward(self, x):\n",
        "        seq_len = x.size(1)\n",
        "        return x + self.pe[:, :seq_len, :].to(x.device)\n",
        "\n",
        "print(\"Custom Transformer Model Defined\")"
      ]
    },
    {
      "cell_type": "code",
      "execution_count": 30,
      "metadata": {
        "id": "Wrp2muH_NVha"
      },
      "outputs": [],
      "source": [
        "# Building vocabulary from dataset\n",
        "class ResearchGapVocabulary:\n",
        "    def __init__(self, min_freq=2):\n",
        "        self.min_freq = min_freq\n",
        "        self.word2idx = {'<PAD>': 0, '<UNK>': 1, '<SOS>': 2, '<EOS>': 3}\n",
        "        self.idx2word = {0: '<PAD>', 1: '<UNK>', 2: '<SOS>', 3: '<EOS>'}\n",
        "        self.vocab_size = 4\n",
        "\n",
        "    def build_vocabulary(self, texts):\n",
        "        print(\"Building vocabulary from research papers\")\n",
        "\n",
        "        word_counts = Counter()\n",
        "        for text in texts:\n",
        "            # Tokenization\n",
        "            words = re.findall(r'\\b\\w+\\b', text.lower())\n",
        "            word_counts.update(words)\n",
        "\n",
        "        for word, count in word_counts.items():\n",
        "            if count >= self.min_freq and word not in self.word2idx:\n",
        "                self.word2idx[word] = self.vocab_size\n",
        "                self.idx2word[self.vocab_size] = word\n",
        "                self.vocab_size += 1\n",
        "\n",
        "        print(f\"Vocabulary built: {self.vocab_size} words\")\n",
        "        return word_counts\n",
        "\n",
        "    def text_to_indices(self, text, max_length=512):\n",
        "        words = re.findall(r'\\b\\w+\\b', text.lower())\n",
        "        indices = [self.word2idx.get(word, 1) for word in words]  # 1=<UNK>\n",
        "\n",
        "        # Adding SOS token at beginning, EOS at end\n",
        "        indices = [2] + indices + [3]  # 2=<SOS>, 3=<EOS>\n",
        "\n",
        "        # Padding to max_length\n",
        "        if len(indices) > max_length:\n",
        "            indices = indices[:max_length-1] + [3]  # Keeping EOS token\n",
        "        else:\n",
        "            indices += [0] * (max_length - len(indices))  # 0=<PAD>\n",
        "\n",
        "        return indices\n",
        "\n",
        "    def indices_to_text(self, indices):\n",
        "        # Converting indices back to text\n",
        "        words = []\n",
        "        for idx in indices:\n",
        "            if idx == 3:  # EOS token\n",
        "                break\n",
        "            if idx not in [0, 1, 2]:  # Skipping PAD, UNK, SOS\n",
        "                words.append(self.idx2word.get(idx, '<UNK>'))\n",
        "        return ' '.join(words)"
      ]
    },
    {
      "cell_type": "code",
      "execution_count": 31,
      "metadata": {
        "colab": {
          "base_uri": "https://localhost:8080/"
        },
        "id": "XTYpKXFLLrwk",
        "outputId": "a033fab1-ff10-4252-b4b9-2ca7fab7eea0"
      },
      "outputs": [
        {
          "name": "stdout",
          "output_type": "stream",
          "text": [
            "Building vocabulary from research papers\n",
            "Vocabulary built: 53657 words\n",
            "Vocabulary Statistics:\n",
            "\n",
            "Total unique words: 103209\n",
            "\n",
            "Vocabulary size: 53657\n",
            "\n",
            "Most common words: [('the', 468884), ('of', 384901), ('to', 279725), ('and', 275810), ('in', 245934), ('a', 233653), ('for', 232795), ('we', 131127), ('method', 112396), ('on', 104444)]\n"
          ]
        }
      ],
      "source": [
        "# Building vocabulary from training data\n",
        "all_texts = []\n",
        "for example in training_examples:\n",
        "    all_texts.append(example['input_text'])\n",
        "    all_texts.append(example['target_text'])\n",
        "\n",
        "vocabulary = ResearchGapVocabulary(min_freq=3)\n",
        "word_counts = vocabulary.build_vocabulary(all_texts)\n",
        "\n",
        "print(f\"Vocabulary Statistics:\")\n",
        "print(f\"\\nTotal unique words: {len(word_counts)}\")\n",
        "print(f\"\\nVocabulary size: {vocabulary.vocab_size}\")\n",
        "print(f\"\\nMost common words: {word_counts.most_common(10)}\")\n",
        "\n",
        "with open('research_gap_vocabulary.pkl', 'wb') as f:\n",
        "    pickle.dump(vocabulary, f)"
      ]
    },
    {
      "cell_type": "code",
      "execution_count": 32,
      "metadata": {
        "id": "sKE_iPr4PN8K"
      },
      "outputs": [],
      "source": [
        "# Custom dataset class\n",
        "class ResearchGapDataset(Dataset):\n",
        "    def __init__(self, training_examples, vocabulary, max_input_length=512, max_output_length=256):\n",
        "        self.examples = training_examples\n",
        "        self.vocabulary = vocabulary\n",
        "        self.max_input_length = max_input_length\n",
        "        self.max_output_length = max_output_length\n",
        "\n",
        "    def __len__(self):\n",
        "        return len(self.examples)\n",
        "\n",
        "    def __getitem__(self, idx):\n",
        "        example = self.examples[idx]\n",
        "\n",
        "        # Converting texts to indices\n",
        "        input_indices = self.vocabulary.text_to_indices(\n",
        "            example['input_text'], self.max_input_length\n",
        "        )\n",
        "        target_indices = self.vocabulary.text_to_indices(\n",
        "            example['target_text'], self.max_output_length\n",
        "        )\n",
        "\n",
        "        # Creating decoder input\n",
        "        decoder_input = target_indices[:-1]  # Removing last token\n",
        "        decoder_target = target_indices[1:]   # Removing first token\n",
        "\n",
        "        # Padding decoder sequences to same length\n",
        "        if len(decoder_input) < self.max_output_length - 1:\n",
        "            pad_length = self.max_output_length - 1 - len(decoder_input)\n",
        "            decoder_input.extend([0] * pad_length)\n",
        "            decoder_target.extend([0] * pad_length)\n",
        "\n",
        "        return {\n",
        "            'input_ids': torch.tensor(input_indices, dtype=torch.long),\n",
        "            'decoder_input': torch.tensor(decoder_input, dtype=torch.long),\n",
        "            'decoder_target': torch.tensor(decoder_target, dtype=torch.long),\n",
        "            'field': example['field'],\n",
        "            'paper_id': example['paper_id']\n",
        "        }"
      ]
    },
    {
      "cell_type": "code",
      "execution_count": 15,
      "metadata": {
        "colab": {
          "base_uri": "https://localhost:8080/"
        },
        "id": "Y_sKLgZJLxk0",
        "outputId": "470aca3b-fdbf-4621-dd9f-50643fa2a208"
      },
      "outputs": [
        {
          "name": "stdout",
          "output_type": "stream",
          "text": [
            "\n",
            "Dataset Splits:\n",
            "\n",
            "Training: 64064 examples\n",
            "\n",
            "Validation: 8008 examples\n",
            "\n",
            "Test: 8008 examples\n",
            "Data loaders created with batch size: 8\n",
            "\n",
            "Data loaders created with batch size: 8 and dynamic padding.\n"
          ]
        }
      ],
      "source": [
        "# Creating dataset splits\n",
        "train_size = int(0.8 * len(training_examples))\n",
        "val_size = int(0.1 * len(training_examples))\n",
        "test_size = len(training_examples) - train_size - val_size\n",
        "\n",
        "train_examples = training_examples[:train_size]\n",
        "val_examples = training_examples[train_size:train_size + val_size]\n",
        "test_examples = training_examples[train_size + val_size:]\n",
        "\n",
        "print(f\"\\nDataset Splits:\")\n",
        "print(f\"\\nTraining: {len(train_examples)} examples\")\n",
        "print(f\"\\nValidation: {len(val_examples)} examples\")\n",
        "print(f\"\\nTest: {len(test_examples)} examples\")\n",
        "\n",
        "# Creating datasets\n",
        "train_dataset = ResearchGapDataset(train_examples, vocabulary)\n",
        "val_dataset = ResearchGapDataset(val_examples, vocabulary)\n",
        "test_dataset = ResearchGapDataset(test_examples, vocabulary)\n",
        "\n",
        "BATCH_SIZE = 8\n",
        "print(f\"Data loaders created with batch size: {BATCH_SIZE}\")\n",
        "def collate_fn(batch):\n",
        "    input_ids = torch.nn.utils.rnn.pad_sequence(\n",
        "        [item['input_ids'] for item in batch], batch_first=True, padding_value=vocabulary.word2idx['<PAD>']\n",
        "    )\n",
        "    decoder_inputs = torch.nn.utils.rnn.pad_sequence(\n",
        "        [item['decoder_input'] for item in batch], batch_first=True, padding_value=vocabulary.word2idx['<PAD>']\n",
        "    )\n",
        "    decoder_targets = torch.nn.utils.rnn.pad_sequence(\n",
        "        [item['decoder_target'] for item in batch], batch_first=True, padding_value=vocabulary.word2idx['<PAD>']\n",
        "    )\n",
        "\n",
        "    fields = [item['field'] for item in batch]\n",
        "    paper_ids = [item['paper_id'] for item in batch]\n",
        "\n",
        "    return {\n",
        "        'input_ids': input_ids,\n",
        "        'decoder_input': decoder_inputs,\n",
        "        'decoder_target': decoder_targets,\n",
        "        'field': fields,\n",
        "        'paper_id': paper_ids\n",
        "    }\n",
        "\n",
        "# Creating data loaders with the collate_fn\n",
        "BATCH_SIZE = 8\n",
        "train_loader = DataLoader(train_dataset, batch_size=BATCH_SIZE, shuffle=True, collate_fn=collate_fn)\n",
        "val_loader = DataLoader(val_dataset, batch_size=BATCH_SIZE, shuffle=False, collate_fn=collate_fn)\n",
        "\n",
        "print(f\"\\nData loaders created with batch size: {BATCH_SIZE} and dynamic padding.\")\n"
      ]
    },
    {
      "cell_type": "code",
      "execution_count": 33,
      "metadata": {
        "colab": {
          "base_uri": "https://localhost:8080/"
        },
        "id": "kACxcMrnPTJ6",
        "outputId": "561b4823-1426-44c6-b896-e36eca42c7a6"
      },
      "outputs": [
        {
          "name": "stdout",
          "output_type": "stream",
          "text": [
            "Model Configuration:\n",
            "   vocab_size: 53657\n",
            "   d_model: 256\n",
            "   nhead: 8\n",
            "   num_encoder_layers: 4\n",
            "   num_decoder_layers: 4\n",
            "   dim_feedforward: 1024\n",
            "   dropout: 0.3\n",
            "Using device: cuda\n",
            "\n",
            "New model initialized and pre-trained weights loaded successfully.\n"
          ]
        }
      ],
      "source": [
        "# Model hyperparameters\n",
        "MODEL_CONFIG = {\n",
        "    'vocab_size': vocabulary.vocab_size,\n",
        "    'd_model': 256,\n",
        "    'nhead': 8,\n",
        "    'num_encoder_layers': 4,\n",
        "    'num_decoder_layers': 4,\n",
        "    'dim_feedforward': 1024,\n",
        "    'dropout': 0.3\n",
        "}\n",
        "\n",
        "print(f\"Model Configuration:\")\n",
        "for key, value in MODEL_CONFIG.items():\n",
        "    print(f\"   {key}: {value}\")\n",
        "\n",
        "# Initializing fixed model\n",
        "device = torch.device('cuda' if torch.cuda.is_available() else 'cpu')\n",
        "print(f\"Using device: {device}\")\n",
        "\n",
        "if 'model' in locals():\n",
        "    del model\n",
        "torch.cuda.empty_cache()\n",
        "\n",
        "model = CustomResearchGapTransformer(**MODEL_CONFIG)\n",
        "model = model.to(device)\n",
        "\n",
        "print(\"\\nNew model initialized and pre-trained weights loaded successfully.\")\n"
      ]
    },
    {
      "cell_type": "code",
      "execution_count": 34,
      "metadata": {
        "colab": {
          "base_uri": "https://localhost:8080/"
        },
        "id": "RwX5haB3Pa21",
        "outputId": "3b29d531-4061-45d2-9f49-9be1976a0301"
      },
      "outputs": [
        {
          "name": "stdout",
          "output_type": "stream",
          "text": [
            "\n",
            "Fixed Model Statistics:\n",
            "\n",
            "Total parameters: 48,899,233\n",
            "\n",
            "Trainable parameters: 48,637,089\n",
            "\n",
            "Model size: ~186.5 MB\n",
            "\n",
            "Testing fixed model with sample batch...\n",
            "\n",
            "Input shape: torch.Size([8, 512])\n",
            "\n",
            "Decoder input shape: torch.Size([8, 255])\n",
            "Fixed model forward pass successful!\n",
            "\n",
            "Gap text output shape: torch.Size([8, 255, 53657])\n",
            "\n",
            "Gap types output shape: torch.Size([8, 7])\n",
            "\n",
            "Gap scores output shape: torch.Size([8])\n",
            "\n",
            "Sample Output Statistics:\n",
            "\n",
            "Gap text logits range: [-3.200, 3.061]\n",
            "\n",
            "Gap types range: [-0.409, 0.411]\n",
            "\n",
            "Gap scores range: [-0.112, 0.359]\n"
          ]
        }
      ],
      "source": [
        "# Counting parameters\n",
        "total_params = sum(p.numel() for p in model.parameters())\n",
        "trainable_params = sum(p.numel() for p in model.parameters() if p.requires_grad)\n",
        "\n",
        "print(f\"\\nFixed Model Statistics:\")\n",
        "print(f\"\\nTotal parameters: {total_params:,}\")\n",
        "print(f\"\\nTrainable parameters: {trainable_params:,}\")\n",
        "print(f\"\\nModel size: ~{total_params * 4 / (1024**2):.1f} MB\")\n",
        "\n",
        "# Testing model with sample batch\n",
        "sample_batch = next(iter(train_loader))\n",
        "print(f\"\\nTesting fixed model with sample batch...\")\n",
        "print(f\"\\nInput shape: {sample_batch['input_ids'].shape}\")\n",
        "print(f\"\\nDecoder input shape: {sample_batch['decoder_input'].shape}\")\n",
        "\n",
        "# Moving to device and testing forward pass\n",
        "sample_input = sample_batch['input_ids'].to(device)\n",
        "sample_decoder = sample_batch['decoder_input'].to(device)\n",
        "\n",
        "with torch.no_grad():\n",
        "    try:\n",
        "        output = model(sample_input, sample_decoder)\n",
        "        print(f\"Fixed model forward pass successful!\")\n",
        "        print(f\"\\nGap text output shape: {output['gap_text'].shape}\")\n",
        "        print(f\"\\nGap types output shape: {output['gap_types'].shape}\")\n",
        "        print(f\"\\nGap scores output shape: {output['gap_scores'].shape}\")\n",
        "\n",
        "        # Testing actual values\n",
        "        print(f\"\\nSample Output Statistics:\")\n",
        "        print(f\"\\nGap text logits range: [{output['gap_text'].min():.3f}, {output['gap_text'].max():.3f}]\")\n",
        "        print(f\"\\nGap types range: [{output['gap_types'].min():.3f}, {output['gap_types'].max():.3f}]\")\n",
        "        print(f\"\\nGap scores range: [{output['gap_scores'].min():.3f}, {output['gap_scores'].max():.3f}]\")\n",
        "\n",
        "    except Exception as e:\n",
        "        print(f\"Model forward pass still failed: {e}\")\n",
        "        import traceback\n",
        "        traceback.print_exc()"
      ]
    },
    {
      "cell_type": "code",
      "execution_count": 35,
      "metadata": {
        "colab": {
          "base_uri": "https://localhost:8080/"
        },
        "id": "PmmF6YWjgjTW",
        "outputId": "1e304589-0037-43c8-8460-60754f42b1af"
      },
      "outputs": [
        {
          "name": "stdout",
          "output_type": "stream",
          "text": [
            "Training Configuration:\n",
            "  num_epochs: 15\n",
            "  learning_rate: 5e-05\n",
            "  batch_size: 16\n",
            "  weight_decay: 0.01\n",
            "  gradient_clipping: 0.5\n",
            "  early_stopping_patience: 3\n",
            "  reduce_lr_patience: 2\n",
            "  reduce_lr_factor: 0.5\n",
            "\n",
            "New training configuration, loss function, optimizer, and scheduler are ready.\n"
          ]
        }
      ],
      "source": [
        "# Defining Training Hyperparameters\n",
        "TRAINING_CONFIG = {\n",
        "    'num_epochs': 15,\n",
        "    'learning_rate': 5e-5,\n",
        "    'batch_size': 16,\n",
        "    'weight_decay': 0.01, # L2 regularization\n",
        "    'gradient_clipping': 0.5,\n",
        "    'early_stopping_patience': 3,\n",
        "    'reduce_lr_patience': 2,\n",
        "    'reduce_lr_factor': 0.5\n",
        "}\n",
        "\n",
        "print(\"Training Configuration:\")\n",
        "for key, value in TRAINING_CONFIG.items():\n",
        "    print(f\"  {key}: {value}\")\n",
        "\n",
        "# Defining the Combined Loss Function Dictionary\n",
        "criterion = {\n",
        "    'gap_text': CrossEntropyLoss(ignore_index=vocabulary.word2idx['<PAD>']),\n",
        "    'gap_type': CrossEntropyLoss(),\n",
        "    'gap_score': MSELoss()\n",
        "}\n",
        "\n",
        "# Creating the Optimizer and Scheduler for the training run\n",
        "optimizer = optim.AdamW(\n",
        "    model.parameters(),\n",
        "    lr=TRAINING_CONFIG['learning_rate'],\n",
        "    weight_decay=TRAINING_CONFIG['weight_decay']\n",
        ")\n",
        "\n",
        "scheduler = optim.lr_scheduler.ReduceLROnPlateau(\n",
        "    optimizer,\n",
        "    mode='min',\n",
        "    patience=TRAINING_CONFIG['reduce_lr_patience'],\n",
        "    factor=TRAINING_CONFIG['reduce_lr_factor']\n",
        "    )\n",
        "\n",
        "print(\"\\nNew training configuration, loss function, optimizer, and scheduler are ready.\")"
      ]
    },
    {
      "cell_type": "code",
      "execution_count": 43,
      "metadata": {
        "id": "Nuyen-yNQ0A5"
      },
      "outputs": [],
      "source": [
        "class ResearchGapTrainer:\n",
        "    def __init__(self, model, criterion, optimizer, scheduler, device):\n",
        "        self.model = model\n",
        "        self.criterion = criterion\n",
        "        self.optimizer = optimizer\n",
        "        self.scheduler = scheduler\n",
        "        self.device = device\n",
        "\n",
        "        # training history\n",
        "        self.train_losses = []\n",
        "        self.val_losses = []\n",
        "        self.learning_rates = []\n",
        "\n",
        "    def train_epoch(self, train_loader):\n",
        "        self.model.train()\n",
        "        total_loss = 0\n",
        "        num_batches = len(train_loader)\n",
        "\n",
        "        progress_bar = tqdm(train_loader, desc=\"training\")\n",
        "\n",
        "        for batch_idx, batch in enumerate(progress_bar):\n",
        "            # moving batch to device\n",
        "            input_ids = batch['input_ids'].to(self.device)\n",
        "            decoder_input = batch['decoder_input'].to(self.device)\n",
        "            decoder_target = batch['decoder_target'].to(self.device)\n",
        "\n",
        "            # forward pass\n",
        "            self.optimizer.zero_grad()\n",
        "            predictions = self.model(input_ids, decoder_input)\n",
        "\n",
        "            # loss calculation\n",
        "            loss_text = self.criterion['gap_text'](predictions['gap_text'].reshape(-1, predictions['gap_text'].size(-1)), decoder_target.reshape(-1))\n",
        "            loss = loss_text\n",
        "\n",
        "            # backward pass\n",
        "            loss.backward()\n",
        "\n",
        "            # gradient limiting\n",
        "            torch.nn.utils.clip_grad_norm_(self.model.parameters(), 1.0)\n",
        "\n",
        "            # weight update\n",
        "            self.optimizer.step()\n",
        "\n",
        "            total_loss += loss.item()\n",
        "            progress_bar.set_postfix({'loss': f'{total_loss / (batch_idx + 1):.4f}'})\n",
        "\n",
        "        return {'total_loss': total_loss / len(train_loader)}\n",
        "\n",
        "    def validate(self, val_loader):\n",
        "        # validating the model\n",
        "        self.model.eval()\n",
        "        total_loss = 0\n",
        "        total_text_loss = 0\n",
        "        num_batches = len(val_loader)\n",
        "\n",
        "        with torch.no_grad():\n",
        "            for batch in tqdm(val_loader, desc=\"validation\"):\n",
        "                input_ids = batch['input_ids'].to(self.device)\n",
        "                decoder_input = batch['decoder_input'].to(self.device)\n",
        "                decoder_target = batch['decoder_target'].to(self.device)\n",
        "\n",
        "                predictions = self.model(input_ids, decoder_input)\n",
        "                loss = self.criterion['gap_text'](predictions['gap_text'].reshape(-1, predictions['gap_text'].size(-1)), decoder_target.reshape(-1))\n",
        "                total_loss += loss.item()\n",
        "\n",
        "        return {'total_loss': total_loss / len(val_loader)}\n",
        "\n",
        "\n",
        "    def train(self, train_loader, val_loader, num_epochs):\n",
        "        # completing training loop\n",
        "        print(f\"starting training for {num_epochs} epochs...\")\n",
        "\n",
        "        best_val_loss = float('inf')\n",
        "        patience_counter = 0\n",
        "\n",
        "        for epoch in range(num_epochs):\n",
        "            print(f\"\\nepoch {epoch + 1}/{num_epochs}\")\n",
        "\n",
        "            # training\n",
        "            start_time = time.time()\n",
        "            train_metrics = self.train_epoch(train_loader)\n",
        "            train_time = time.time() - start_time\n",
        "\n",
        "            # validation\n",
        "            start_time = time.time()\n",
        "            val_metrics = self.validate(val_loader)\n",
        "            val_time = time.time() - start_time\n",
        "\n",
        "            # updating learning rate\n",
        "            self.scheduler.step(val_metrics['total_loss'])\n",
        "            current_lr = self.optimizer.param_groups[0]['lr']\n",
        "\n",
        "            # stori history\n",
        "            self.train_losses.append(train_metrics['total_loss'])\n",
        "            self.val_losses.append(val_metrics['total_loss'])\n",
        "            self.learning_rates.append(current_lr)\n",
        "\n",
        "            # epoch summary\n",
        "            print(f\"\\nepoch {epoch + 1} results:\")\n",
        "            print(f\"\\ntrain loss: {train_metrics['total_loss']:.4f} ({train_time:.1f}s)\")\n",
        "            print(f\"\\nval loss: {val_metrics['total_loss']:.4f} ({val_time:.1f}s)\")\n",
        "            print(f\"\\nlearning rate: {current_lr:.2e}\")\n",
        "            print(f\"\\ntext loss: {train_metrics['text_loss']:.4f}\")\n",
        "\n",
        "            # saved best model\n",
        "            if val_metrics['total_loss'] < best_val_loss:\n",
        "                best_val_loss = val_metrics['total_loss']\n",
        "                self.save_model('best_research_gap_model.pt', epoch, val_metrics['total_loss'])\n",
        "                patience_counter = 0\n",
        "                print(f\"\\nnew best model saved!\")\n",
        "            else:\n",
        "                patience_counter += 1\n",
        "\n",
        "            # early stopping\n",
        "            if patience_counter >= 5:\n",
        "                print(f\"\\nearly stopping triggered (patience: 5)\")\n",
        "                break\n",
        "\n",
        "            # saved checkpoint every few epochs\n",
        "            if (epoch + 1) % 3 == 0:\n",
        "                self.save_model(f'checkpoint_epoch_{epoch+1}.pt', epoch, val_metrics['total_loss'])\n",
        "\n",
        "        print(f\"\\ntraining completed!\")\n",
        "        print(f\"\\nbest validation loss: {best_val_loss:.4f}\")\n",
        "\n",
        "    def save_model(self, filename, epoch, val_loss):\n",
        "        # saved model checkpoint\n",
        "        torch.save({\n",
        "            'epoch': epoch,\n",
        "            'model_state_dict': self.model.state_dict(),\n",
        "            'optimizer_state_dict': self.optimizer.state_dict(),\n",
        "            'scheduler_state_dict': self.scheduler.state_dict(),\n",
        "            'val_loss': val_loss,\n",
        "            'vocab_size': self.model.output_projection.in_features,\n",
        "            'model_config': MODEL_CONFIG\n",
        "        }, filename)\n",
        "\n",
        "    def plot_training_history(self):\n",
        "      # plotting training curves\n",
        "      fig, ax = plt.subplots(1, 1, figsize=(8, 5))\n",
        "\n",
        "      ax.plot(self.train_losses, label='training loss', color='blue')\n",
        "      ax.plot(self.val_losses, label='validation loss', color='red')\n",
        "      ax.set_xlabel('epoch')\n",
        "      ax.set_ylabel('loss')\n",
        "      ax.set_title('training and validation loss')\n",
        "      ax.set_ylim(2.75, 4.75)\n",
        "      ax.legend()\n",
        "      ax.grid(True)\n",
        "\n",
        "      plt.tight_layout()\n",
        "      plt.savefig('training_history_loss.png', dpi=300, bbox_inches='tight')\n",
        "      plt.show()\n",
        "\n"
      ]
    },
    {
      "cell_type": "code",
      "execution_count": 44,
      "metadata": {
        "id": "WhPmmgWLREah"
      },
      "outputs": [],
      "source": [
        "class ResumeableTrainer(ResearchGapTrainer):\n",
        "    def __init__(self, model, criterion, optimizer, scheduler, device, checkpoint_dir='checkpoints'):\n",
        "        super().__init__(model, criterion, optimizer, scheduler, device)\n",
        "        self.checkpoint_dir = checkpoint_dir\n",
        "        os.makedirs(checkpoint_dir, exist_ok=True)\n",
        "\n",
        "    def cleanup_drive_backups(self, keep_last=5):\n",
        "        try:\n",
        "            drive.mount('/content/drive', force_remount=True)\n",
        "            backup_pattern = '/content/drive/MyDrive/research_gap_backup_epoch_*_batch_*.pt'\n",
        "            backups = glob.glob(backup_pattern)\n",
        "\n",
        "            if len(backups) <= keep_last:\n",
        "                print(f\"only {len(backups)} drive backups found. no cleanup needed.\")\n",
        "                return\n",
        "\n",
        "            backup_info = []\n",
        "            for backup in backups:\n",
        "                match = re.search(r'backup_epoch_(\\d+)_batch_(\\d+)\\.pt', backup)\n",
        "                if match:\n",
        "                    epoch, batch = int(match.group(1)), int(match.group(2))\n",
        "                    backup_info.append((epoch, batch, backup))\n",
        "\n",
        "            backup_info.sort(key=lambda x: (x[0], x[1]))\n",
        "            backups_to_delete = backup_info[:-keep_last]\n",
        "\n",
        "            deleted_count = 0\n",
        "            for epoch, batch, backup_path in backups_to_delete:\n",
        "                try:\n",
        "                    os.remove(backup_path)\n",
        "                    print(f\"deleted old drive backup: epoch_{epoch}_batch_{batch}\")\n",
        "                    deleted_count += 1\n",
        "                except Exception as e:\n",
        "                    print(f\"failed to delete {backup_path}: {e}\")\n",
        "\n",
        "            print(f\"cleaned up {deleted_count} old drive backups. kept {keep_last} most recent.\")\n",
        "\n",
        "        except Exception as e:\n",
        "            print(f\"drive backup cleanup failed: {e}\")\n",
        "\n",
        "    def save_epoch_model_to_drive(self, epoch, train_loss, val_loss):\n",
        "        try:\n",
        "            drive.mount('/content/drive', force_remount=True)\n",
        "\n",
        "            epoch_model_path = f'/content/drive/MyDrive/research_gap_epoch_{epoch}_model.pt'\n",
        "            torch.save({\n",
        "                'epoch': epoch,\n",
        "                'model_state_dict': self.model.state_dict(),\n",
        "                'train_loss': train_loss,\n",
        "                'val_loss': val_loss,\n",
        "                'model_config': MODEL_CONFIG,\n",
        "                'vocabulary': vocabulary\n",
        "            }, epoch_model_path)\n",
        "\n",
        "            print(f\"epoch {epoch} trained model saved to drive: {epoch_model_path}\")\n",
        "\n",
        "        except Exception as e:\n",
        "            print(f\"failed to save epoch model to drive: {e}\")\n",
        "\n",
        "    def save_checkpoint(self, epoch, batch_idx, loss):\n",
        "        try:\n",
        "            drive_path = f'/content/drive/MyDrive/research_gap_backup_epoch_{epoch}_batch_{batch_idx}.pt'\n",
        "\n",
        "            torch.save({\n",
        "                'epoch': epoch,\n",
        "                'batch_idx': batch_idx,\n",
        "                'model_state_dict': self.model.state_dict(),\n",
        "                'optimizer_state_dict': self.optimizer.state_dict(),\n",
        "                'scheduler_state_dict': self.scheduler.state_dict(),\n",
        "                'loss': loss,\n",
        "                'vocab_size': self.model.output_projection.in_features,\n",
        "                'model_config': MODEL_CONFIG,\n",
        "                'train_losses': self.train_losses,\n",
        "                'val_losses': self.val_losses\n",
        "            }, drive_path)\n",
        "\n",
        "            print(f\"checkpoint saved to google drive: {drive_path}\")\n",
        "\n",
        "            self.cleanup_drive_backups(keep_last=3)\n",
        "\n",
        "        except Exception as e:\n",
        "            print(f\"failed to save checkpoint to drive: {e}\")\n",
        "\n",
        "    def find_latest_checkpoint(self):\n",
        "        checkpoint_pattern = f\"{self.checkpoint_dir}/checkpoint_epoch_*_batch_*.pt\"\n",
        "        checkpoints = glob.glob(checkpoint_pattern)\n",
        "\n",
        "        if not checkpoints:\n",
        "            print(\"no local checkpoints found. checking google drive...\")\n",
        "            return self.find_latest_checkpoint_from_drive()\n",
        "\n",
        "        latest_checkpoint = None\n",
        "        latest_epoch = -1\n",
        "        latest_batch = -1\n",
        "\n",
        "        for cp in checkpoints:\n",
        "            match = re.search(r'checkpoint_epoch_(\\d+)_batch_(\\d+)\\.pt', cp)\n",
        "            if match:\n",
        "                epoch, batch = int(match.group(1)), int(match.group(2))\n",
        "                if epoch > latest_epoch or (epoch == latest_epoch and batch > latest_batch):\n",
        "                    latest_epoch, latest_batch = epoch, batch\n",
        "                    latest_checkpoint = cp\n",
        "\n",
        "        print(f\"found latest checkpoint: {latest_checkpoint}\")\n",
        "        return latest_checkpoint, latest_epoch, latest_batch\n",
        "\n",
        "    def find_latest_checkpoint_from_drive(self):\n",
        "        try:\n",
        "            drive.mount('/content/drive', force_remount=True)\n",
        "            backup_pattern = '/content/drive/MyDrive/research_gap_backup_epoch_*_batch_*.pt'\n",
        "            backups = glob.glob(backup_pattern)\n",
        "\n",
        "            if not backups:\n",
        "                print(\"no google drive backups found.\")\n",
        "                return None, 0, 0\n",
        "\n",
        "            latest_backup = None\n",
        "            latest_epoch = -1\n",
        "            latest_batch = -1\n",
        "\n",
        "            for backup in backups:\n",
        "                match = re.search(r'backup_epoch_(\\d+)_batch_(\\d+)\\.pt', backup)\n",
        "                if match:\n",
        "                    epoch, batch = int(match.group(1)), int(match.group(2))\n",
        "                    if epoch > latest_epoch or (epoch == latest_epoch and batch > latest_batch):\n",
        "                        latest_epoch, latest_batch = epoch, batch\n",
        "                        latest_backup = backup\n",
        "\n",
        "            if latest_backup:\n",
        "                local_checkpoint = f\"{self.checkpoint_dir}/checkpoint_epoch_{latest_epoch}_batch_{latest_batch}.pt\"\n",
        "                shutil.copy(latest_backup, local_checkpoint)\n",
        "                print(f\"restored checkpoint from google drive: epoch {latest_epoch}, batch {latest_batch}\")\n",
        "                return local_checkpoint, latest_epoch, latest_batch\n",
        "\n",
        "        except Exception as e:\n",
        "            print(f\"failed to restore from google drive: {e}\")\n",
        "            return None, 0, 0\n",
        "\n",
        "    def load_checkpoint(self, checkpoint_path):\n",
        "        checkpoint = torch.load(checkpoint_path)\n",
        "        self.model.load_state_dict(checkpoint['model_state_dict'])\n",
        "        self.optimizer.load_state_dict(checkpoint['optimizer_state_dict'])\n",
        "        self.scheduler.load_state_dict(checkpoint['scheduler_state_dict'])\n",
        "        self.train_losses = checkpoint.get('train_losses', [])\n",
        "        self.val_losses = checkpoint.get('val_losses', [])\n",
        "        return checkpoint['epoch'], checkpoint['batch_idx']\n",
        "\n",
        "    def train_epoch_with_resume(self, train_loader, epoch, skip_batches=0):\n",
        "        self.model.train()\n",
        "        total_loss = 0\n",
        "        processed_batches = 0\n",
        "\n",
        "        progress_bar = tqdm(train_loader, desc=f\"epoch {epoch+1}\")\n",
        "\n",
        "        for batch_idx, batch in enumerate(progress_bar):\n",
        "            if batch_idx < skip_batches:\n",
        "                continue\n",
        "\n",
        "            input_ids = batch['input_ids'].to(self.device)\n",
        "            decoder_input = batch['decoder_input'].to(self.device)\n",
        "            decoder_target = batch['decoder_target'].to(self.device)\n",
        "\n",
        "            self.optimizer.zero_grad()\n",
        "            predictions = self.model(input_ids, decoder_input)\n",
        "\n",
        "            loss = self.criterion['gap_text'](\n",
        "                predictions['gap_text'].reshape(-1, predictions['gap_text'].size(-1)),\n",
        "                decoder_target.reshape(-1)\n",
        "            )\n",
        "\n",
        "            loss.backward()\n",
        "            torch.nn.utils.clip_grad_norm_(self.model.parameters(), 1.0)\n",
        "            self.optimizer.step()\n",
        "\n",
        "            total_loss += loss.item()\n",
        "            processed_batches += 1\n",
        "\n",
        "            progress_bar.set_postfix({'loss': f'{total_loss/processed_batches:.4f}'})\n",
        "\n",
        "            if batch_idx > 0 and batch_idx % 500 == 0:\n",
        "                avg_loss = total_loss / processed_batches\n",
        "                self.save_checkpoint(epoch, batch_idx, avg_loss)\n",
        "                torch.cuda.empty_cache()\n",
        "\n",
        "        return total_loss / processed_batches if processed_batches > 0 else 0\n",
        "\n",
        "    def validate(self, val_loader):\n",
        "        self.model.eval()\n",
        "        total_loss = 0\n",
        "        with torch.no_grad():\n",
        "            for batch in tqdm(val_loader, desc=\"validation\"):\n",
        "                input_ids = batch['input_ids'].to(self.device)\n",
        "                decoder_input = batch['decoder_input'].to(self.device)\n",
        "                decoder_target = batch['decoder_target'].to(self.device)\n",
        "\n",
        "                predictions = self.model(input_ids, decoder_input)\n",
        "\n",
        "                loss = self.criterion['gap_text'](\n",
        "                    predictions['gap_text'].reshape(-1, predictions['gap_text'].size(-1)),\n",
        "                    decoder_target.reshape(-1)\n",
        "                )\n",
        "                total_loss += loss.item()\n",
        "\n",
        "        return {'total_loss': total_loss / len(val_loader)}\n",
        "\n",
        "    def run_complete_training(self, train_loader, val_loader, num_epochs):\n",
        "        print(\"research gap model training\")\n",
        "\n",
        "        checkpoint_path, start_epoch, start_batch = self.find_latest_checkpoint()\n",
        "\n",
        "        if checkpoint_path:\n",
        "            print(f\"resuming from epoch {start_epoch}, batch {start_batch}\")\n",
        "            try:\n",
        "                loaded_epoch, loaded_batch = self.load_checkpoint(checkpoint_path)\n",
        "                start_epoch = loaded_epoch\n",
        "                start_batch = loaded_batch\n",
        "                print(f\"successfully loaded checkpoint from epoch {start_epoch}\")\n",
        "            except Exception as e:\n",
        "                print(f\"failed to load checkpoint: {e}\")\n",
        "                start_epoch = 0\n",
        "                start_batch = 0\n",
        "        else:\n",
        "            start_epoch = 0\n",
        "            start_batch = 0\n",
        "\n",
        "        for epoch in range(start_epoch, num_epochs):\n",
        "            print(f\"\\nstarting epoch {epoch + 1}/{num_epochs}\")\n",
        "\n",
        "            skip_batches = start_batch if epoch == start_epoch else 0\n",
        "            train_loss = self.train_epoch_with_resume(train_loader, epoch, skip_batches)\n",
        "            val_metrics = self.validate(val_loader)\n",
        "            val_loss = val_metrics['total_loss']\n",
        "\n",
        "            self.scheduler.step(val_loss)\n",
        "            self.train_losses.append(train_loss)\n",
        "            self.val_losses.append(val_loss)\n",
        "\n",
        "            print(f\"epoch {epoch+1} completed:\")\n",
        "            print(f\"  train loss: {train_loss:.4f}\")\n",
        "            print(f\"  val loss: {val_loss:.4f}\")\n",
        "            print(f\"  learning rate: {self.optimizer.param_groups[0]['lr']:.2e}\")\n",
        "\n",
        "            self.save_checkpoint(epoch, len(train_loader), train_loss)\n",
        "            self.save_epoch_model_to_drive(epoch, train_loss, val_loss)\n",
        "\n",
        "            start_batch = 0\n",
        "\n",
        "        print(\"training completed!\")\n",
        "\n",
        "        try:\n",
        "            drive.mount('/content/drive', force_remount=True)\n",
        "            final_model_path = '/content/drive/MyDrive/research_gap_final_trained_model.pt'\n",
        "            torch.save({\n",
        "                'model_state_dict': self.model.state_dict(),\n",
        "                'vocabulary': vocabulary,\n",
        "                'model_config': MODEL_CONFIG,\n",
        "                'training_complete': True,\n",
        "                'final_train_loss': self.train_losses[-1] if self.train_losses else None,\n",
        "                'final_val_loss': self.val_losses[-1] if self.val_losses else None\n",
        "            }, final_model_path)\n",
        "            print(f\"final trained model saved to drive: {final_model_path}\")\n",
        "        except Exception as e:\n",
        "            print(f\"failed to save final model to drive: {e}\")\n",
        "\n",
        "        try:\n",
        "            self.plot_training_history()\n",
        "        except:\n",
        "            print(\"could not plot training history\")"
      ]
    },
    {
      "cell_type": "code",
      "execution_count": 45,
      "metadata": {
        "colab": {
          "base_uri": "https://localhost:8080/",
          "height": 1000
        },
        "id": "7bVOre_cksTm",
        "outputId": "524961a7-e47b-4695-e649-5e9ceed31d66"
      },
      "outputs": [
        {
          "name": "stdout",
          "output_type": "stream",
          "text": [
            "ResumeableTrainer initialized and ready for the improved training run.\n",
            "\n",
            "STARTING IMPROVED TRAINING RUN\n",
            "research gap model training\n",
            "no local checkpoints found. checking google drive...\n",
            "Mounted at /content/drive\n",
            "restored checkpoint from google drive: epoch 12, batch 2000\n",
            "resuming from epoch 12, batch 2000\n",
            "successfully loaded checkpoint from epoch 12\n",
            "\n",
            "starting epoch 13/15\n"
          ]
        },
        {
          "name": "stderr",
          "output_type": "stream",
          "text": [
            "epoch 13:  25%|██▍       | 1981/8008 [00:05<00:17, 335.40it/s, loss=3.2604]"
          ]
        },
        {
          "name": "stdout",
          "output_type": "stream",
          "text": [
            "checkpoint saved to google drive: /content/drive/MyDrive/research_gap_backup_epoch_12_batch_2000.pt\n"
          ]
        },
        {
          "name": "stderr",
          "output_type": "stream",
          "text": [
            "epoch 13:  25%|██▍       | 2001/8008 [00:21<16:26,  6.09it/s, loss=3.2604] "
          ]
        },
        {
          "name": "stdout",
          "output_type": "stream",
          "text": [
            "Mounted at /content/drive\n",
            "only 1 drive backups found. no cleanup needed.\n"
          ]
        },
        {
          "name": "stderr",
          "output_type": "stream",
          "text": [
            "epoch 13:  31%|███       | 2500/8008 [01:54<16:48,  5.46it/s, loss=2.8401]"
          ]
        },
        {
          "name": "stdout",
          "output_type": "stream",
          "text": [
            "checkpoint saved to google drive: /content/drive/MyDrive/research_gap_backup_epoch_12_batch_2500.pt\n"
          ]
        },
        {
          "name": "stderr",
          "output_type": "stream",
          "text": [
            "\repoch 13:  31%|███       | 2501/8008 [02:08<6:58:00,  4.55s/it, loss=2.8401]"
          ]
        },
        {
          "name": "stdout",
          "output_type": "stream",
          "text": [
            "Mounted at /content/drive\n",
            "only 2 drive backups found. no cleanup needed.\n"
          ]
        },
        {
          "name": "stderr",
          "output_type": "stream",
          "text": [
            "epoch 13:  37%|███▋      | 3000/8008 [03:40<15:12,  5.49it/s, loss=2.8608]"
          ]
        },
        {
          "name": "stdout",
          "output_type": "stream",
          "text": [
            "checkpoint saved to google drive: /content/drive/MyDrive/research_gap_backup_epoch_12_batch_3000.pt\n"
          ]
        },
        {
          "name": "stderr",
          "output_type": "stream",
          "text": [
            "\repoch 13:  37%|███▋      | 3001/8008 [03:50<4:16:43,  3.08s/it, loss=2.8608]"
          ]
        },
        {
          "name": "stdout",
          "output_type": "stream",
          "text": [
            "Mounted at /content/drive\n",
            "only 3 drive backups found. no cleanup needed.\n"
          ]
        },
        {
          "name": "stderr",
          "output_type": "stream",
          "text": [
            "epoch 13:  44%|████▎     | 3500/8008 [05:21<13:41,  5.49it/s, loss=2.8740]"
          ]
        },
        {
          "name": "stdout",
          "output_type": "stream",
          "text": [
            "checkpoint saved to google drive: /content/drive/MyDrive/research_gap_backup_epoch_12_batch_3500.pt\n"
          ]
        },
        {
          "name": "stderr",
          "output_type": "stream",
          "text": [
            "\repoch 13:  44%|████▎     | 3501/8008 [05:31<3:37:53,  2.90s/it, loss=2.8740]"
          ]
        },
        {
          "name": "stdout",
          "output_type": "stream",
          "text": [
            "Mounted at /content/drive\n",
            "deleted old drive backup: epoch_12_batch_2000\n",
            "cleaned up 1 old drive backups. kept 3 most recent.\n"
          ]
        },
        {
          "name": "stderr",
          "output_type": "stream",
          "text": [
            "epoch 13:  50%|████▉     | 4000/8008 [07:02<12:17,  5.43it/s, loss=2.8759]"
          ]
        },
        {
          "name": "stdout",
          "output_type": "stream",
          "text": [
            "checkpoint saved to google drive: /content/drive/MyDrive/research_gap_backup_epoch_12_batch_4000.pt\n"
          ]
        },
        {
          "name": "stderr",
          "output_type": "stream",
          "text": [
            "\repoch 13:  50%|████▉     | 4001/8008 [07:19<5:46:59,  5.20s/it, loss=2.8759]"
          ]
        },
        {
          "name": "stdout",
          "output_type": "stream",
          "text": [
            "Mounted at /content/drive\n",
            "deleted old drive backup: epoch_12_batch_2500\n",
            "cleaned up 1 old drive backups. kept 3 most recent.\n"
          ]
        },
        {
          "name": "stderr",
          "output_type": "stream",
          "text": [
            "epoch 13:  56%|█████▌    | 4500/8008 [08:51<10:44,  5.44it/s, loss=2.8818]"
          ]
        },
        {
          "name": "stdout",
          "output_type": "stream",
          "text": [
            "checkpoint saved to google drive: /content/drive/MyDrive/research_gap_backup_epoch_12_batch_4500.pt\n"
          ]
        },
        {
          "name": "stderr",
          "output_type": "stream",
          "text": [
            "\repoch 13:  56%|█████▌    | 4501/8008 [09:02<3:19:57,  3.42s/it, loss=2.8818]"
          ]
        },
        {
          "name": "stdout",
          "output_type": "stream",
          "text": [
            "Mounted at /content/drive\n",
            "deleted old drive backup: epoch_12_batch_3000\n",
            "cleaned up 1 old drive backups. kept 3 most recent.\n"
          ]
        },
        {
          "name": "stderr",
          "output_type": "stream",
          "text": [
            "epoch 13:  62%|██████▏   | 5000/8008 [10:35<09:09,  5.47it/s, loss=2.8835]"
          ]
        },
        {
          "name": "stdout",
          "output_type": "stream",
          "text": [
            "checkpoint saved to google drive: /content/drive/MyDrive/research_gap_backup_epoch_12_batch_5000.pt\n"
          ]
        },
        {
          "name": "stderr",
          "output_type": "stream",
          "text": [
            "\repoch 13:  62%|██████▏   | 5001/8008 [10:45<2:49:51,  3.39s/it, loss=2.8835]"
          ]
        },
        {
          "name": "stdout",
          "output_type": "stream",
          "text": [
            "Mounted at /content/drive\n",
            "deleted old drive backup: epoch_12_batch_3500\n",
            "cleaned up 1 old drive backups. kept 3 most recent.\n"
          ]
        },
        {
          "name": "stderr",
          "output_type": "stream",
          "text": [
            "epoch 13:  69%|██████▊   | 5500/8008 [12:18<07:37,  5.48it/s, loss=2.8815]"
          ]
        },
        {
          "name": "stdout",
          "output_type": "stream",
          "text": [
            "checkpoint saved to google drive: /content/drive/MyDrive/research_gap_backup_epoch_12_batch_5500.pt\n"
          ]
        },
        {
          "name": "stderr",
          "output_type": "stream",
          "text": [
            "\repoch 13:  69%|██████▊   | 5501/8008 [12:27<2:05:11,  3.00s/it, loss=2.8815]"
          ]
        },
        {
          "name": "stdout",
          "output_type": "stream",
          "text": [
            "Mounted at /content/drive\n",
            "deleted old drive backup: epoch_12_batch_4000\n",
            "cleaned up 1 old drive backups. kept 3 most recent.\n"
          ]
        },
        {
          "name": "stderr",
          "output_type": "stream",
          "text": [
            "epoch 13:  75%|███████▍  | 6000/8008 [13:59<06:11,  5.40it/s, loss=2.8816]"
          ]
        },
        {
          "name": "stdout",
          "output_type": "stream",
          "text": [
            "checkpoint saved to google drive: /content/drive/MyDrive/research_gap_backup_epoch_12_batch_6000.pt\n"
          ]
        },
        {
          "name": "stderr",
          "output_type": "stream",
          "text": [
            "\repoch 13:  75%|███████▍  | 6001/8008 [14:15<2:48:30,  5.04s/it, loss=2.8816]"
          ]
        },
        {
          "name": "stdout",
          "output_type": "stream",
          "text": [
            "Mounted at /content/drive\n",
            "deleted old drive backup: epoch_12_batch_4500\n",
            "cleaned up 1 old drive backups. kept 3 most recent.\n"
          ]
        },
        {
          "name": "stderr",
          "output_type": "stream",
          "text": [
            "epoch 13:  81%|████████  | 6500/8008 [15:47<04:46,  5.27it/s, loss=2.8824]"
          ]
        },
        {
          "name": "stdout",
          "output_type": "stream",
          "text": [
            "checkpoint saved to google drive: /content/drive/MyDrive/research_gap_backup_epoch_12_batch_6500.pt\n"
          ]
        },
        {
          "name": "stderr",
          "output_type": "stream",
          "text": [
            "\repoch 13:  81%|████████  | 6501/8008 [15:58<1:27:22,  3.48s/it, loss=2.8824]"
          ]
        },
        {
          "name": "stdout",
          "output_type": "stream",
          "text": [
            "Mounted at /content/drive\n",
            "deleted old drive backup: epoch_12_batch_5000\n",
            "cleaned up 1 old drive backups. kept 3 most recent.\n"
          ]
        },
        {
          "name": "stderr",
          "output_type": "stream",
          "text": [
            "epoch 13:  87%|████████▋ | 7000/8008 [17:31<03:06,  5.40it/s, loss=2.8833]"
          ]
        },
        {
          "name": "stdout",
          "output_type": "stream",
          "text": [
            "checkpoint saved to google drive: /content/drive/MyDrive/research_gap_backup_epoch_12_batch_7000.pt\n"
          ]
        },
        {
          "name": "stderr",
          "output_type": "stream",
          "text": [
            "\repoch 13:  87%|████████▋ | 7001/8008 [17:45<1:13:50,  4.40s/it, loss=2.8833]"
          ]
        },
        {
          "name": "stdout",
          "output_type": "stream",
          "text": [
            "Mounted at /content/drive\n",
            "deleted old drive backup: epoch_12_batch_5500\n",
            "cleaned up 1 old drive backups. kept 3 most recent.\n"
          ]
        },
        {
          "name": "stderr",
          "output_type": "stream",
          "text": [
            "epoch 13:  94%|█████████▎| 7500/8008 [19:18<01:32,  5.48it/s, loss=2.8855]"
          ]
        },
        {
          "name": "stdout",
          "output_type": "stream",
          "text": [
            "checkpoint saved to google drive: /content/drive/MyDrive/research_gap_backup_epoch_12_batch_7500.pt\n"
          ]
        },
        {
          "name": "stderr",
          "output_type": "stream",
          "text": [
            "\repoch 13:  94%|█████████▎| 7501/8008 [19:30<31:37,  3.74s/it, loss=2.8855]"
          ]
        },
        {
          "name": "stdout",
          "output_type": "stream",
          "text": [
            "Mounted at /content/drive\n",
            "deleted old drive backup: epoch_12_batch_6000\n",
            "cleaned up 1 old drive backups. kept 3 most recent.\n"
          ]
        },
        {
          "name": "stderr",
          "output_type": "stream",
          "text": [
            "epoch 13: 100%|█████████▉| 8000/8008 [21:02<00:01,  5.49it/s, loss=2.8827]"
          ]
        },
        {
          "name": "stdout",
          "output_type": "stream",
          "text": [
            "checkpoint saved to google drive: /content/drive/MyDrive/research_gap_backup_epoch_12_batch_8000.pt\n"
          ]
        },
        {
          "name": "stderr",
          "output_type": "stream",
          "text": [
            "\repoch 13: 100%|█████████▉| 8001/8008 [21:10<00:19,  2.77s/it, loss=2.8827]"
          ]
        },
        {
          "name": "stdout",
          "output_type": "stream",
          "text": [
            "Mounted at /content/drive\n",
            "deleted old drive backup: epoch_12_batch_6500\n",
            "cleaned up 1 old drive backups. kept 3 most recent.\n"
          ]
        },
        {
          "name": "stderr",
          "output_type": "stream",
          "text": [
            "epoch 13: 100%|██████████| 8008/8008 [21:12<00:00,  6.30it/s, loss=2.8828]\n",
            "validation: 100%|██████████| 1001/1001 [00:44<00:00, 22.61it/s]\n"
          ]
        },
        {
          "name": "stdout",
          "output_type": "stream",
          "text": [
            "epoch 13 completed:\n",
            "  train loss: 2.8828\n",
            "  val loss: 2.9302\n",
            "  learning rate: 5.00e-05\n",
            "checkpoint saved to google drive: /content/drive/MyDrive/research_gap_backup_epoch_12_batch_8008.pt\n",
            "Mounted at /content/drive\n",
            "deleted old drive backup: epoch_12_batch_7000\n",
            "cleaned up 1 old drive backups. kept 3 most recent.\n",
            "Mounted at /content/drive\n",
            "epoch 12 trained model saved to drive: /content/drive/MyDrive/research_gap_epoch_12_model.pt\n",
            "\n",
            "starting epoch 14/15\n"
          ]
        },
        {
          "name": "stderr",
          "output_type": "stream",
          "text": [
            "epoch 14:   6%|▌         | 500/8008 [01:33<22:50,  5.48it/s, loss=2.8398]"
          ]
        },
        {
          "name": "stdout",
          "output_type": "stream",
          "text": [
            "checkpoint saved to google drive: /content/drive/MyDrive/research_gap_backup_epoch_13_batch_500.pt\n"
          ]
        },
        {
          "name": "stderr",
          "output_type": "stream",
          "text": [
            "\repoch 14:   6%|▋         | 501/8008 [01:52<12:22:34,  5.94s/it, loss=2.8398]"
          ]
        },
        {
          "name": "stdout",
          "output_type": "stream",
          "text": [
            "Mounted at /content/drive\n",
            "deleted old drive backup: epoch_12_batch_7500\n",
            "cleaned up 1 old drive backups. kept 3 most recent.\n"
          ]
        },
        {
          "name": "stderr",
          "output_type": "stream",
          "text": [
            "epoch 14:  12%|█▏        | 1000/8008 [03:25<21:17,  5.48it/s, loss=2.8423]"
          ]
        },
        {
          "name": "stdout",
          "output_type": "stream",
          "text": [
            "checkpoint saved to google drive: /content/drive/MyDrive/research_gap_backup_epoch_13_batch_1000.pt\n"
          ]
        },
        {
          "name": "stderr",
          "output_type": "stream",
          "text": [
            "\repoch 14:  12%|█▎        | 1001/8008 [03:33<5:10:14,  2.66s/it, loss=2.8423]"
          ]
        },
        {
          "name": "stdout",
          "output_type": "stream",
          "text": [
            "Mounted at /content/drive\n",
            "deleted old drive backup: epoch_12_batch_8000\n",
            "cleaned up 1 old drive backups. kept 3 most recent.\n"
          ]
        },
        {
          "name": "stderr",
          "output_type": "stream",
          "text": [
            "epoch 14:  19%|█▊        | 1500/8008 [05:05<19:53,  5.45it/s, loss=2.8470]"
          ]
        },
        {
          "name": "stdout",
          "output_type": "stream",
          "text": [
            "checkpoint saved to google drive: /content/drive/MyDrive/research_gap_backup_epoch_13_batch_1500.pt\n"
          ]
        },
        {
          "name": "stderr",
          "output_type": "stream",
          "text": [
            "\repoch 14:  19%|█▊        | 1501/8008 [05:17<6:36:18,  3.65s/it, loss=2.8470]"
          ]
        },
        {
          "name": "stdout",
          "output_type": "stream",
          "text": [
            "Mounted at /content/drive\n",
            "deleted old drive backup: epoch_12_batch_8008\n",
            "cleaned up 1 old drive backups. kept 3 most recent.\n"
          ]
        },
        {
          "name": "stderr",
          "output_type": "stream",
          "text": [
            "epoch 14:  25%|██▍       | 2000/8008 [06:49<18:16,  5.48it/s, loss=2.8433]"
          ]
        },
        {
          "name": "stdout",
          "output_type": "stream",
          "text": [
            "checkpoint saved to google drive: /content/drive/MyDrive/research_gap_backup_epoch_13_batch_2000.pt\n"
          ]
        },
        {
          "name": "stderr",
          "output_type": "stream",
          "text": [
            "\repoch 14:  25%|██▍       | 2001/8008 [07:04<7:35:12,  4.55s/it, loss=2.8433]"
          ]
        },
        {
          "name": "stdout",
          "output_type": "stream",
          "text": [
            "Mounted at /content/drive\n",
            "deleted old drive backup: epoch_13_batch_500\n",
            "cleaned up 1 old drive backups. kept 3 most recent.\n"
          ]
        },
        {
          "name": "stderr",
          "output_type": "stream",
          "text": [
            "epoch 14:  31%|███       | 2500/8008 [08:36<16:43,  5.49it/s, loss=2.8422]"
          ]
        },
        {
          "name": "stdout",
          "output_type": "stream",
          "text": [
            "checkpoint saved to google drive: /content/drive/MyDrive/research_gap_backup_epoch_13_batch_2500.pt\n"
          ]
        },
        {
          "name": "stderr",
          "output_type": "stream",
          "text": [
            "\repoch 14:  31%|███       | 2501/8008 [08:46<4:53:05,  3.19s/it, loss=2.8422]"
          ]
        },
        {
          "name": "stdout",
          "output_type": "stream",
          "text": [
            "Mounted at /content/drive\n",
            "deleted old drive backup: epoch_13_batch_1000\n",
            "cleaned up 1 old drive backups. kept 3 most recent.\n"
          ]
        },
        {
          "name": "stderr",
          "output_type": "stream",
          "text": [
            "epoch 14:  37%|███▋      | 3000/8008 [10:19<15:14,  5.48it/s, loss=2.8424]"
          ]
        },
        {
          "name": "stdout",
          "output_type": "stream",
          "text": [
            "checkpoint saved to google drive: /content/drive/MyDrive/research_gap_backup_epoch_13_batch_3000.pt\n"
          ]
        },
        {
          "name": "stderr",
          "output_type": "stream",
          "text": [
            "\repoch 14:  37%|███▋      | 3001/8008 [10:26<3:07:27,  2.25s/it, loss=2.8424]"
          ]
        },
        {
          "name": "stdout",
          "output_type": "stream",
          "text": [
            "Mounted at /content/drive\n",
            "deleted old drive backup: epoch_13_batch_1500\n",
            "cleaned up 1 old drive backups. kept 3 most recent.\n"
          ]
        },
        {
          "name": "stderr",
          "output_type": "stream",
          "text": [
            "epoch 14:  44%|████▎     | 3500/8008 [11:58<13:42,  5.48it/s, loss=2.8477]"
          ]
        },
        {
          "name": "stdout",
          "output_type": "stream",
          "text": [
            "checkpoint saved to google drive: /content/drive/MyDrive/research_gap_backup_epoch_13_batch_3500.pt\n"
          ]
        },
        {
          "name": "stderr",
          "output_type": "stream",
          "text": [
            "\repoch 14:  44%|████▎     | 3501/8008 [12:09<4:23:49,  3.51s/it, loss=2.8477]"
          ]
        },
        {
          "name": "stdout",
          "output_type": "stream",
          "text": [
            "Mounted at /content/drive\n",
            "deleted old drive backup: epoch_13_batch_2000\n",
            "cleaned up 1 old drive backups. kept 3 most recent.\n"
          ]
        },
        {
          "name": "stderr",
          "output_type": "stream",
          "text": [
            "epoch 14:  50%|████▉     | 4000/8008 [13:41<12:29,  5.35it/s, loss=2.8483]"
          ]
        },
        {
          "name": "stdout",
          "output_type": "stream",
          "text": [
            "checkpoint saved to google drive: /content/drive/MyDrive/research_gap_backup_epoch_13_batch_4000.pt\n"
          ]
        },
        {
          "name": "stderr",
          "output_type": "stream",
          "text": [
            "\repoch 14:  50%|████▉     | 4001/8008 [13:50<3:15:17,  2.92s/it, loss=2.8483]"
          ]
        },
        {
          "name": "stdout",
          "output_type": "stream",
          "text": [
            "Mounted at /content/drive\n",
            "deleted old drive backup: epoch_13_batch_2500\n",
            "cleaned up 1 old drive backups. kept 3 most recent.\n"
          ]
        },
        {
          "name": "stderr",
          "output_type": "stream",
          "text": [
            "epoch 14:  56%|█████▌    | 4500/8008 [15:22<10:39,  5.49it/s, loss=2.8501]"
          ]
        },
        {
          "name": "stdout",
          "output_type": "stream",
          "text": [
            "checkpoint saved to google drive: /content/drive/MyDrive/research_gap_backup_epoch_13_batch_4500.pt\n"
          ]
        },
        {
          "name": "stderr",
          "output_type": "stream",
          "text": [
            "\repoch 14:  56%|█████▌    | 4501/8008 [15:35<3:45:07,  3.85s/it, loss=2.8501]"
          ]
        },
        {
          "name": "stdout",
          "output_type": "stream",
          "text": [
            "Mounted at /content/drive\n",
            "deleted old drive backup: epoch_13_batch_3000\n",
            "cleaned up 1 old drive backups. kept 3 most recent.\n"
          ]
        },
        {
          "name": "stderr",
          "output_type": "stream",
          "text": [
            "epoch 14:  62%|██████▏   | 5000/8008 [17:07<09:08,  5.48it/s, loss=2.8514]"
          ]
        },
        {
          "name": "stdout",
          "output_type": "stream",
          "text": [
            "checkpoint saved to google drive: /content/drive/MyDrive/research_gap_backup_epoch_13_batch_5000.pt\n"
          ]
        },
        {
          "name": "stderr",
          "output_type": "stream",
          "text": [
            "\repoch 14:  62%|██████▏   | 5001/8008 [17:14<2:08:14,  2.56s/it, loss=2.8514]"
          ]
        },
        {
          "name": "stdout",
          "output_type": "stream",
          "text": [
            "Mounted at /content/drive\n",
            "deleted old drive backup: epoch_13_batch_3500\n",
            "cleaned up 1 old drive backups. kept 3 most recent.\n"
          ]
        },
        {
          "name": "stderr",
          "output_type": "stream",
          "text": [
            "epoch 14:  69%|██████▊   | 5500/8008 [18:47<07:41,  5.44it/s, loss=2.8518]"
          ]
        },
        {
          "name": "stdout",
          "output_type": "stream",
          "text": [
            "checkpoint saved to google drive: /content/drive/MyDrive/research_gap_backup_epoch_13_batch_5500.pt\n"
          ]
        },
        {
          "name": "stderr",
          "output_type": "stream",
          "text": [
            "\repoch 14:  69%|██████▊   | 5501/8008 [19:03<3:22:57,  4.86s/it, loss=2.8518]"
          ]
        },
        {
          "name": "stdout",
          "output_type": "stream",
          "text": [
            "Mounted at /content/drive\n",
            "deleted old drive backup: epoch_13_batch_4000\n",
            "cleaned up 1 old drive backups. kept 3 most recent.\n"
          ]
        },
        {
          "name": "stderr",
          "output_type": "stream",
          "text": [
            "epoch 14:  75%|███████▍  | 6000/8008 [20:35<06:06,  5.48it/s, loss=2.8530]"
          ]
        },
        {
          "name": "stdout",
          "output_type": "stream",
          "text": [
            "checkpoint saved to google drive: /content/drive/MyDrive/research_gap_backup_epoch_13_batch_6000.pt\n"
          ]
        },
        {
          "name": "stderr",
          "output_type": "stream",
          "text": [
            "\repoch 14:  75%|███████▍  | 6001/8008 [20:43<1:21:09,  2.43s/it, loss=2.8530]"
          ]
        },
        {
          "name": "stdout",
          "output_type": "stream",
          "text": [
            "Mounted at /content/drive\n",
            "deleted old drive backup: epoch_13_batch_4500\n",
            "cleaned up 1 old drive backups. kept 3 most recent.\n"
          ]
        },
        {
          "name": "stderr",
          "output_type": "stream",
          "text": [
            "epoch 14:  81%|████████  | 6500/8008 [22:15<04:35,  5.48it/s, loss=2.8563]"
          ]
        },
        {
          "name": "stdout",
          "output_type": "stream",
          "text": [
            "checkpoint saved to google drive: /content/drive/MyDrive/research_gap_backup_epoch_13_batch_6500.pt\n"
          ]
        },
        {
          "name": "stderr",
          "output_type": "stream",
          "text": [
            "\repoch 14:  81%|████████  | 6501/8008 [22:24<1:16:58,  3.06s/it, loss=2.8563]"
          ]
        },
        {
          "name": "stdout",
          "output_type": "stream",
          "text": [
            "Mounted at /content/drive\n",
            "deleted old drive backup: epoch_13_batch_5000\n",
            "cleaned up 1 old drive backups. kept 3 most recent.\n"
          ]
        },
        {
          "name": "stderr",
          "output_type": "stream",
          "text": [
            "epoch 14:  87%|████████▋ | 7000/8008 [23:56<03:04,  5.47it/s, loss=2.8597]"
          ]
        },
        {
          "name": "stdout",
          "output_type": "stream",
          "text": [
            "checkpoint saved to google drive: /content/drive/MyDrive/research_gap_backup_epoch_13_batch_7000.pt\n"
          ]
        },
        {
          "name": "stderr",
          "output_type": "stream",
          "text": [
            "\repoch 14:  87%|████████▋ | 7001/8008 [24:14<1:32:28,  5.51s/it, loss=2.8597]"
          ]
        },
        {
          "name": "stdout",
          "output_type": "stream",
          "text": [
            "Mounted at /content/drive\n",
            "deleted old drive backup: epoch_13_batch_5500\n",
            "cleaned up 1 old drive backups. kept 3 most recent.\n"
          ]
        },
        {
          "name": "stderr",
          "output_type": "stream",
          "text": [
            "epoch 14:  94%|█████████▎| 7500/8008 [25:46<01:33,  5.46it/s, loss=2.8603]"
          ]
        },
        {
          "name": "stdout",
          "output_type": "stream",
          "text": [
            "checkpoint saved to google drive: /content/drive/MyDrive/research_gap_backup_epoch_13_batch_7500.pt\n"
          ]
        },
        {
          "name": "stderr",
          "output_type": "stream",
          "text": [
            "\repoch 14:  94%|█████████▎| 7501/8008 [25:57<29:22,  3.48s/it, loss=2.8603]"
          ]
        },
        {
          "name": "stdout",
          "output_type": "stream",
          "text": [
            "Mounted at /content/drive\n",
            "deleted old drive backup: epoch_13_batch_6000\n",
            "cleaned up 1 old drive backups. kept 3 most recent.\n"
          ]
        },
        {
          "name": "stderr",
          "output_type": "stream",
          "text": [
            "epoch 14: 100%|█████████▉| 8000/8008 [27:29<00:01,  5.48it/s, loss=2.8614]"
          ]
        },
        {
          "name": "stdout",
          "output_type": "stream",
          "text": [
            "checkpoint saved to google drive: /content/drive/MyDrive/research_gap_backup_epoch_13_batch_8000.pt\n"
          ]
        },
        {
          "name": "stderr",
          "output_type": "stream",
          "text": [
            "\repoch 14: 100%|█████████▉| 8001/8008 [27:45<00:34,  4.93s/it, loss=2.8614]"
          ]
        },
        {
          "name": "stdout",
          "output_type": "stream",
          "text": [
            "Mounted at /content/drive\n",
            "deleted old drive backup: epoch_13_batch_6500\n",
            "cleaned up 1 old drive backups. kept 3 most recent.\n"
          ]
        },
        {
          "name": "stderr",
          "output_type": "stream",
          "text": [
            "epoch 14: 100%|██████████| 8008/8008 [27:46<00:00,  4.80it/s, loss=2.8617]\n",
            "validation: 100%|██████████| 1001/1001 [00:43<00:00, 22.80it/s]\n"
          ]
        },
        {
          "name": "stdout",
          "output_type": "stream",
          "text": [
            "epoch 14 completed:\n",
            "  train loss: 2.8617\n",
            "  val loss: 2.9134\n",
            "  learning rate: 5.00e-05\n",
            "checkpoint saved to google drive: /content/drive/MyDrive/research_gap_backup_epoch_13_batch_8008.pt\n",
            "Mounted at /content/drive\n",
            "deleted old drive backup: epoch_13_batch_7000\n",
            "cleaned up 1 old drive backups. kept 3 most recent.\n",
            "Mounted at /content/drive\n",
            "epoch 13 trained model saved to drive: /content/drive/MyDrive/research_gap_epoch_13_model.pt\n",
            "\n",
            "starting epoch 15/15\n"
          ]
        },
        {
          "name": "stderr",
          "output_type": "stream",
          "text": [
            "epoch 15:   6%|▌         | 500/8008 [01:32<22:50,  5.48it/s, loss=2.7688]"
          ]
        },
        {
          "name": "stdout",
          "output_type": "stream",
          "text": [
            "checkpoint saved to google drive: /content/drive/MyDrive/research_gap_backup_epoch_14_batch_500.pt\n"
          ]
        },
        {
          "name": "stderr",
          "output_type": "stream",
          "text": [
            "\repoch 15:   6%|▋         | 501/8008 [01:40<5:26:39,  2.61s/it, loss=2.7688]"
          ]
        },
        {
          "name": "stdout",
          "output_type": "stream",
          "text": [
            "Mounted at /content/drive\n",
            "only 2 drive backups found. no cleanup needed.\n"
          ]
        },
        {
          "name": "stderr",
          "output_type": "stream",
          "text": [
            "epoch 15:  12%|█▏        | 1000/8008 [03:12<21:17,  5.48it/s, loss=2.7911]"
          ]
        },
        {
          "name": "stdout",
          "output_type": "stream",
          "text": [
            "checkpoint saved to google drive: /content/drive/MyDrive/research_gap_backup_epoch_14_batch_1000.pt\n"
          ]
        },
        {
          "name": "stderr",
          "output_type": "stream",
          "text": [
            "\repoch 15:  12%|█▎        | 1001/8008 [03:28<9:46:07,  5.02s/it, loss=2.7911]"
          ]
        },
        {
          "name": "stdout",
          "output_type": "stream",
          "text": [
            "Mounted at /content/drive\n",
            "only 2 drive backups found. no cleanup needed.\n"
          ]
        },
        {
          "name": "stderr",
          "output_type": "stream",
          "text": [
            "epoch 15:  19%|█▊        | 1500/8008 [05:00<19:48,  5.47it/s, loss=2.7959]"
          ]
        },
        {
          "name": "stdout",
          "output_type": "stream",
          "text": [
            "checkpoint saved to google drive: /content/drive/MyDrive/research_gap_backup_epoch_14_batch_1500.pt\n"
          ]
        },
        {
          "name": "stderr",
          "output_type": "stream",
          "text": [
            "\repoch 15:  19%|█▊        | 1501/8008 [05:08<4:44:43,  2.63s/it, loss=2.7959]"
          ]
        },
        {
          "name": "stdout",
          "output_type": "stream",
          "text": [
            "Mounted at /content/drive\n",
            "only 3 drive backups found. no cleanup needed.\n"
          ]
        },
        {
          "name": "stderr",
          "output_type": "stream",
          "text": [
            "epoch 15:  25%|██▍       | 2000/8008 [06:40<18:17,  5.47it/s, loss=2.7951]"
          ]
        },
        {
          "name": "stdout",
          "output_type": "stream",
          "text": [
            "checkpoint saved to google drive: /content/drive/MyDrive/research_gap_backup_epoch_14_batch_2000.pt\n"
          ]
        },
        {
          "name": "stderr",
          "output_type": "stream",
          "text": [
            "\repoch 15:  25%|██▍       | 2001/8008 [06:55<7:47:37,  4.67s/it, loss=2.7951]"
          ]
        },
        {
          "name": "stdout",
          "output_type": "stream",
          "text": [
            "Mounted at /content/drive\n",
            "deleted old drive backup: epoch_14_batch_500\n",
            "cleaned up 1 old drive backups. kept 3 most recent.\n"
          ]
        },
        {
          "name": "stderr",
          "output_type": "stream",
          "text": [
            "epoch 15:  31%|███       | 2500/8008 [08:27<16:47,  5.47it/s, loss=2.8023]"
          ]
        },
        {
          "name": "stdout",
          "output_type": "stream",
          "text": [
            "checkpoint saved to google drive: /content/drive/MyDrive/research_gap_backup_epoch_14_batch_2500.pt\n"
          ]
        },
        {
          "name": "stderr",
          "output_type": "stream",
          "text": [
            "\repoch 15:  31%|███       | 2501/8008 [08:38<5:22:13,  3.51s/it, loss=2.8023]"
          ]
        },
        {
          "name": "stdout",
          "output_type": "stream",
          "text": [
            "Mounted at /content/drive\n",
            "deleted old drive backup: epoch_14_batch_1000\n",
            "cleaned up 1 old drive backups. kept 3 most recent.\n"
          ]
        },
        {
          "name": "stderr",
          "output_type": "stream",
          "text": [
            "epoch 15:  37%|███▋      | 3000/8008 [10:10<15:11,  5.50it/s, loss=2.8020]"
          ]
        },
        {
          "name": "stdout",
          "output_type": "stream",
          "text": [
            "checkpoint saved to google drive: /content/drive/MyDrive/research_gap_backup_epoch_14_batch_3000.pt\n"
          ]
        },
        {
          "name": "stderr",
          "output_type": "stream",
          "text": [
            "\repoch 15:  37%|███▋      | 3001/8008 [12:16<52:35:57, 37.82s/it, loss=2.8020]"
          ]
        },
        {
          "name": "stdout",
          "output_type": "stream",
          "text": [
            "Mounted at /content/drive\n",
            "deleted old drive backup: epoch_14_batch_1500\n",
            "cleaned up 1 old drive backups. kept 3 most recent.\n"
          ]
        },
        {
          "name": "stderr",
          "output_type": "stream",
          "text": [
            "epoch 15:  44%|████▎     | 3500/8008 [13:47<13:49,  5.43it/s, loss=2.8083]"
          ]
        },
        {
          "name": "stdout",
          "output_type": "stream",
          "text": [
            "checkpoint saved to google drive: /content/drive/MyDrive/research_gap_backup_epoch_14_batch_3500.pt\n"
          ]
        },
        {
          "name": "stderr",
          "output_type": "stream",
          "text": [
            "\repoch 15:  44%|████▎     | 3501/8008 [15:53<47:15:07, 37.74s/it, loss=2.8083]"
          ]
        },
        {
          "name": "stdout",
          "output_type": "stream",
          "text": [
            "Mounted at /content/drive\n",
            "deleted old drive backup: epoch_14_batch_2000\n",
            "cleaned up 1 old drive backups. kept 3 most recent.\n"
          ]
        },
        {
          "name": "stderr",
          "output_type": "stream",
          "text": [
            "epoch 15:  50%|████▉     | 4000/8008 [17:25<12:12,  5.47it/s, loss=2.8070]"
          ]
        },
        {
          "name": "stdout",
          "output_type": "stream",
          "text": [
            "checkpoint saved to google drive: /content/drive/MyDrive/research_gap_backup_epoch_14_batch_4000.pt\n"
          ]
        },
        {
          "name": "stderr",
          "output_type": "stream",
          "text": [
            "\repoch 15:  50%|████▉     | 4001/8008 [19:31<42:23:44, 38.09s/it, loss=2.8070]"
          ]
        },
        {
          "name": "stdout",
          "output_type": "stream",
          "text": [
            "Mounted at /content/drive\n",
            "deleted old drive backup: epoch_14_batch_2500\n",
            "cleaned up 1 old drive backups. kept 3 most recent.\n"
          ]
        },
        {
          "name": "stderr",
          "output_type": "stream",
          "text": [
            "epoch 15:  56%|█████▌    | 4500/8008 [21:03<10:41,  5.47it/s, loss=2.8094]"
          ]
        },
        {
          "name": "stdout",
          "output_type": "stream",
          "text": [
            "checkpoint saved to google drive: /content/drive/MyDrive/research_gap_backup_epoch_14_batch_4500.pt\n"
          ]
        },
        {
          "name": "stderr",
          "output_type": "stream",
          "text": [
            "\repoch 15:  56%|█████▌    | 4501/8008 [23:09<37:04:46, 38.06s/it, loss=2.8094]"
          ]
        },
        {
          "name": "stdout",
          "output_type": "stream",
          "text": [
            "Mounted at /content/drive\n",
            "deleted old drive backup: epoch_14_batch_3000\n",
            "cleaned up 1 old drive backups. kept 3 most recent.\n"
          ]
        },
        {
          "name": "stderr",
          "output_type": "stream",
          "text": [
            "epoch 15:  62%|██████▏   | 5000/8008 [24:41<09:06,  5.51it/s, loss=2.8102]"
          ]
        },
        {
          "name": "stdout",
          "output_type": "stream",
          "text": [
            "checkpoint saved to google drive: /content/drive/MyDrive/research_gap_backup_epoch_14_batch_5000.pt\n"
          ]
        },
        {
          "name": "stderr",
          "output_type": "stream",
          "text": [
            "\repoch 15:  62%|██████▏   | 5001/8008 [26:54<33:32:11, 40.15s/it, loss=2.8102]"
          ]
        },
        {
          "name": "stdout",
          "output_type": "stream",
          "text": [
            "Mounted at /content/drive\n",
            "deleted old drive backup: epoch_14_batch_3500\n",
            "cleaned up 1 old drive backups. kept 3 most recent.\n"
          ]
        },
        {
          "name": "stderr",
          "output_type": "stream",
          "text": [
            "epoch 15:  69%|██████▊   | 5500/8008 [28:26<07:37,  5.48it/s, loss=2.8125]"
          ]
        },
        {
          "name": "stdout",
          "output_type": "stream",
          "text": [
            "checkpoint saved to google drive: /content/drive/MyDrive/research_gap_backup_epoch_14_batch_5500.pt\n"
          ]
        },
        {
          "name": "stderr",
          "output_type": "stream",
          "text": [
            "\repoch 15:  69%|██████▊   | 5501/8008 [30:41<28:17:18, 40.62s/it, loss=2.8125]"
          ]
        },
        {
          "name": "stdout",
          "output_type": "stream",
          "text": [
            "Mounted at /content/drive\n",
            "deleted old drive backup: epoch_14_batch_4000\n",
            "cleaned up 1 old drive backups. kept 3 most recent.\n"
          ]
        },
        {
          "name": "stderr",
          "output_type": "stream",
          "text": [
            "epoch 15:  75%|███████▍  | 6000/8008 [32:13<06:06,  5.48it/s, loss=2.8148]"
          ]
        },
        {
          "name": "stdout",
          "output_type": "stream",
          "text": [
            "checkpoint saved to google drive: /content/drive/MyDrive/research_gap_backup_epoch_14_batch_6000.pt\n"
          ]
        },
        {
          "name": "stderr",
          "output_type": "stream",
          "text": [
            "\repoch 15:  75%|███████▍  | 6001/8008 [34:22<21:38:56, 38.83s/it, loss=2.8148]"
          ]
        },
        {
          "name": "stdout",
          "output_type": "stream",
          "text": [
            "Mounted at /content/drive\n",
            "deleted old drive backup: epoch_14_batch_4500\n",
            "cleaned up 1 old drive backups. kept 3 most recent.\n"
          ]
        },
        {
          "name": "stderr",
          "output_type": "stream",
          "text": [
            "epoch 15:  81%|████████  | 6500/8008 [35:54<04:34,  5.49it/s, loss=2.8164]"
          ]
        },
        {
          "name": "stdout",
          "output_type": "stream",
          "text": [
            "checkpoint saved to google drive: /content/drive/MyDrive/research_gap_backup_epoch_14_batch_6500.pt\n"
          ]
        },
        {
          "name": "stderr",
          "output_type": "stream",
          "text": [
            "\repoch 15:  81%|████████  | 6501/8008 [38:00<15:55:39, 38.05s/it, loss=2.8164]"
          ]
        },
        {
          "name": "stdout",
          "output_type": "stream",
          "text": [
            "Mounted at /content/drive\n",
            "deleted old drive backup: epoch_14_batch_5000\n",
            "cleaned up 1 old drive backups. kept 3 most recent.\n"
          ]
        },
        {
          "name": "stderr",
          "output_type": "stream",
          "text": [
            "epoch 15:  87%|████████▋ | 7000/8008 [39:33<03:03,  5.48it/s, loss=2.8185]"
          ]
        },
        {
          "name": "stdout",
          "output_type": "stream",
          "text": [
            "checkpoint saved to google drive: /content/drive/MyDrive/research_gap_backup_epoch_14_batch_7000.pt\n"
          ]
        },
        {
          "name": "stderr",
          "output_type": "stream",
          "text": [
            "\repoch 15:  87%|████████▋ | 7001/8008 [41:41<10:48:20, 38.63s/it, loss=2.8185]"
          ]
        },
        {
          "name": "stdout",
          "output_type": "stream",
          "text": [
            "Mounted at /content/drive\n",
            "deleted old drive backup: epoch_14_batch_5500\n",
            "cleaned up 1 old drive backups. kept 3 most recent.\n"
          ]
        },
        {
          "name": "stderr",
          "output_type": "stream",
          "text": [
            "epoch 15:  94%|█████████▎| 7500/8008 [43:14<01:32,  5.47it/s, loss=2.8198]"
          ]
        },
        {
          "name": "stdout",
          "output_type": "stream",
          "text": [
            "checkpoint saved to google drive: /content/drive/MyDrive/research_gap_backup_epoch_14_batch_7500.pt\n"
          ]
        },
        {
          "name": "stderr",
          "output_type": "stream",
          "text": [
            "\repoch 15:  94%|█████████▎| 7501/8008 [45:25<5:34:00, 39.53s/it, loss=2.8198]"
          ]
        },
        {
          "name": "stdout",
          "output_type": "stream",
          "text": [
            "Mounted at /content/drive\n",
            "deleted old drive backup: epoch_14_batch_6000\n",
            "cleaned up 1 old drive backups. kept 3 most recent.\n"
          ]
        },
        {
          "name": "stderr",
          "output_type": "stream",
          "text": [
            "epoch 15: 100%|█████████▉| 8000/8008 [46:59<00:01,  5.46it/s, loss=2.8223]"
          ]
        },
        {
          "name": "stdout",
          "output_type": "stream",
          "text": [
            "checkpoint saved to google drive: /content/drive/MyDrive/research_gap_backup_epoch_14_batch_8000.pt\n"
          ]
        },
        {
          "name": "stderr",
          "output_type": "stream",
          "text": [
            "\repoch 15: 100%|█████████▉| 8001/8008 [49:23<05:04, 43.50s/it, loss=2.8223]"
          ]
        },
        {
          "name": "stdout",
          "output_type": "stream",
          "text": [
            "Mounted at /content/drive\n",
            "deleted old drive backup: epoch_14_batch_6500\n",
            "cleaned up 1 old drive backups. kept 3 most recent.\n"
          ]
        },
        {
          "name": "stderr",
          "output_type": "stream",
          "text": [
            "epoch 15: 100%|██████████| 8008/8008 [49:26<00:00,  2.70it/s, loss=2.8222]\n",
            "validation: 100%|██████████| 1001/1001 [00:47<00:00, 21.02it/s]\n"
          ]
        },
        {
          "name": "stdout",
          "output_type": "stream",
          "text": [
            "epoch 15 completed:\n",
            "  train loss: 2.8222\n",
            "  val loss: 2.9095\n",
            "  learning rate: 5.00e-05\n",
            "checkpoint saved to google drive: /content/drive/MyDrive/research_gap_backup_epoch_14_batch_8008.pt\n",
            "Mounted at /content/drive\n",
            "deleted old drive backup: epoch_14_batch_7000\n",
            "cleaned up 1 old drive backups. kept 3 most recent.\n",
            "Mounted at /content/drive\n",
            "epoch 14 trained model saved to drive: /content/drive/MyDrive/research_gap_epoch_14_model.pt\n",
            "training completed!\n",
            "Mounted at /content/drive\n",
            "final trained model saved to drive: /content/drive/MyDrive/research_gap_final_trained_model.pt\n"
          ]
        },
        {
          "data": {
            "image/png": "[encoded data removed]",
            "text/plain": [
              "<Figure size 800x500 with 1 Axes>"
            ]
          },
          "metadata": {},
          "output_type": "display_data"
        },
        {
          "name": "stdout",
          "output_type": "stream",
          "text": [
            "\n",
            "Improved training completed successfully!\n"
          ]
        }
      ],
      "source": [
        "# Initializing the ResumeableTrainer with all the new components.\n",
        "improved_trainer = ResumeableTrainer(\n",
        "    model=model,\n",
        "    criterion=criterion,\n",
        "    optimizer=optimizer,\n",
        "    scheduler=scheduler,\n",
        "    device=device,\n",
        "    checkpoint_dir='improved_checkpoints'\n",
        ")\n",
        "\n",
        "print(\"ResumeableTrainer initialized and ready for the improved training run.\")\n",
        "\n",
        "try:\n",
        "    print(\"\\nSTARTING IMPROVED TRAINING RUN\")\n",
        "\n",
        "    improved_trainer.run_complete_training(\n",
        "        train_loader,\n",
        "        val_loader,\n",
        "        TRAINING_CONFIG['num_epochs']\n",
        "    )\n",
        "    print(\"\\nImproved training completed successfully!\")\n",
        "\n",
        "except Exception as e:\n",
        "    print(f\"\\nTraining interrupted: {e}\")\n",
        "    print(\"Checkpoints have been saved. You can re-run this cell to resume.\")\n",
        "    import traceback\n",
        "    traceback.print_exc()"
      ]
    },
    {
      "cell_type": "code",
      "execution_count": null,
      "metadata": {
        "id": "KvvKHL1YQ_zo"
      },
      "outputs": [],
      "source": []
    }
  ],
  "metadata": {
    "accelerator": "GPU",
    "colab": {
      "gpuType": "T4",
      "provenance": []
    },
    "kernelspec": {
      "display_name": "Python 3",
      "name": "python3"
    },
    "language_info": {
      "name": "python"
    }
  },
  "nbformat": 4,
  "nbformat_minor": 0
}
